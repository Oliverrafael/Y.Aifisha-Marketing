{
 "cells": [
  {
   "cell_type": "markdown",
   "metadata": {},
   "source": [
    "# Project Title\n",
    "## Y.Aifisha - Marketing"
   ]
  },
  {
   "cell_type": "markdown",
   "metadata": {},
   "source": [
    "# Project Description\n",
    "\n",
    "The Y.Afisha analytics department aims to optimize its marketing expenses."
   ]
  },
  {
   "cell_type": "markdown",
   "metadata": {},
   "source": [
    "# Objective\n",
    "\n",
    "Optimize marketing expenses and generate a solution"
   ]
  },
  {
   "cell_type": "markdown",
   "metadata": {},
   "source": [
    "# Data Description\n",
    "\n",
    "\n",
    "The visits table (server logs with data about website accesses):\n",
    "\n",
    "- Uid — unique user identifier\n",
    "- Device — user device\n",
    "- Start Ts — session start date and time\n",
    "- End Ts — session end date and time\n",
    "- Source Id — ad source identifier through which the user arrived.\n",
    "All dates in this table are in the format YYYY-MM-DD.\n",
    "\n",
    "\n",
    "The orders table (data about orders):\n",
    "\n",
    "- Uid — unique identifier of the user who placed an order\n",
    "- Buy Ts — order date and time\n",
    "- Revenue —  Y.Afisha’s revenue from the order\n",
    "\n",
    "\n",
    "The costs table (data about marketing expenses):\n",
    "\n",
    "- source_id —  ad source identifier\n",
    "- dt — date\n",
    "- costs — expenses for this ad source on this day"
   ]
  },
  {
   "cell_type": "markdown",
   "metadata": {},
   "source": [
    "# Initialization\n"
   ]
  },
  {
   "cell_type": "code",
   "execution_count": 59,
   "metadata": {},
   "outputs": [],
   "source": [
    "# Loading the libraries\n",
    "import pandas as pd\n",
    "import numpy as np\n",
    "from operator import attrgetter\n",
    "import seaborn as sns\n",
    "import matplotlib.pyplot as plt"
   ]
  },
  {
   "cell_type": "markdown",
   "metadata": {},
   "source": [
    "# Loading the dataset\n"
   ]
  },
  {
   "cell_type": "code",
   "execution_count": 60,
   "metadata": {},
   "outputs": [],
   "source": [
    "# Server logs with data on Y.Afisha accesses from January 2017 to December 2018\n",
    "# Optimizing data during import\n",
    "df_logs = pd.read_csv(\n",
    "    'visits_log_us.csv',\n",
    "    dtype={'Device': 'category'},\n",
    "    parse_dates=['Start Ts', 'End Ts'])"
   ]
  },
  {
   "cell_type": "code",
   "execution_count": 61,
   "metadata": {},
   "outputs": [],
   "source": [
    "# Dump file with all orders placed during the period\n",
    "# Optimizing data during import\n",
    "df_orders = pd.read_csv(\n",
    "    'orders_log_us.csv',\n",
    "    parse_dates=['Buy Ts'])"
   ]
  },
  {
   "cell_type": "code",
   "execution_count": 62,
   "metadata": {},
   "outputs": [],
   "source": [
    "# Marketing expense statistics\n",
    "# Optimizing data during import\n",
    "df_costs = pd.read_csv('costs_us.csv')"
   ]
  },
  {
   "cell_type": "markdown",
   "metadata": {},
   "source": [
    "# Data preparation\n"
   ]
  },
  {
   "cell_type": "code",
   "execution_count": 63,
   "metadata": {
    "scrolled": false
   },
   "outputs": [],
   "source": [
    "# Correcting df_logs data\n",
    "df_logs.columns = df_logs.columns.str.lower() # Converting Column Names to Lowercase\n",
    "df_logs.columns = df_logs.columns.str.replace(\" \", \"_\") # Replacing spaces with '_' (snake_case)"
   ]
  },
  {
   "cell_type": "code",
   "execution_count": 64,
   "metadata": {},
   "outputs": [
    {
     "data": {
      "text/plain": [
       "0"
      ]
     },
     "execution_count": 64,
     "metadata": {},
     "output_type": "execute_result"
    }
   ],
   "source": [
    "df_logs.duplicated().sum() # Checking for duplicate values"
   ]
  },
  {
   "cell_type": "code",
   "execution_count": 65,
   "metadata": {},
   "outputs": [
    {
     "data": {
      "text/plain": [
       "device       0\n",
       "end_ts       0\n",
       "source_id    0\n",
       "start_ts     0\n",
       "uid          0\n",
       "dtype: int64"
      ]
     },
     "execution_count": 65,
     "metadata": {},
     "output_type": "execute_result"
    }
   ],
   "source": [
    "df_logs.isna().sum() # Checking for missing values"
   ]
  },
  {
   "cell_type": "code",
   "execution_count": 66,
   "metadata": {
    "scrolled": false
   },
   "outputs": [],
   "source": [
    "df_orders.columns = df_orders.columns.str.lower() # Converting Column Names to Lowercase\n",
    "df_orders.columns = df_orders.columns.str.replace(\" \", \"_\") # Replacing spaces with '_' (snake_case)"
   ]
  },
  {
   "cell_type": "code",
   "execution_count": 67,
   "metadata": {
    "scrolled": true
   },
   "outputs": [
    {
     "data": {
      "text/plain": [
       "0"
      ]
     },
     "execution_count": 67,
     "metadata": {},
     "output_type": "execute_result"
    }
   ],
   "source": [
    "df_orders.duplicated().sum() # Checking for duplicate values"
   ]
  },
  {
   "cell_type": "code",
   "execution_count": 68,
   "metadata": {},
   "outputs": [
    {
     "data": {
      "text/plain": [
       "buy_ts     0\n",
       "revenue    0\n",
       "uid        0\n",
       "dtype: int64"
      ]
     },
     "execution_count": 68,
     "metadata": {},
     "output_type": "execute_result"
    }
   ],
   "source": [
    "df_orders.isna().sum() # Checking for missing values"
   ]
  },
  {
   "cell_type": "code",
   "execution_count": 69,
   "metadata": {
    "scrolled": false
   },
   "outputs": [],
   "source": [
    "df_costs.columns = df_costs.columns.str.lower() # Converting Column Names to Lowercase\n"
   ]
  },
  {
   "cell_type": "code",
   "execution_count": 70,
   "metadata": {},
   "outputs": [
    {
     "data": {
      "text/plain": [
       "0"
      ]
     },
     "execution_count": 70,
     "metadata": {},
     "output_type": "execute_result"
    }
   ],
   "source": [
    "df_costs.duplicated().sum() # Checking for duplicate values"
   ]
  },
  {
   "cell_type": "code",
   "execution_count": 71,
   "metadata": {},
   "outputs": [
    {
     "data": {
      "text/plain": [
       "source_id    0\n",
       "dt           0\n",
       "costs        0\n",
       "dtype: int64"
      ]
     },
     "execution_count": 71,
     "metadata": {},
     "output_type": "execute_result"
    }
   ],
   "source": [
    "df_costs.isna().sum() # Checking for missing values"
   ]
  },
  {
   "cell_type": "code",
   "execution_count": 72,
   "metadata": {},
   "outputs": [],
   "source": [
    "# Changing the data type to datetime\n",
    "df_costs['dt'] = pd.to_datetime(df_costs['dt'])"
   ]
  },
  {
   "cell_type": "markdown",
   "metadata": {},
   "source": [
    "# Visualizing the corrected data"
   ]
  },
  {
   "cell_type": "code",
   "execution_count": 73,
   "metadata": {},
   "outputs": [
    {
     "name": "stdout",
     "output_type": "stream",
     "text": [
      "<class 'pandas.core.frame.DataFrame'>\n",
      "RangeIndex: 359400 entries, 0 to 359399\n",
      "Data columns (total 5 columns):\n",
      " #   Column     Non-Null Count   Dtype         \n",
      "---  ------     --------------   -----         \n",
      " 0   device     359400 non-null  category      \n",
      " 1   end_ts     359400 non-null  datetime64[ns]\n",
      " 2   source_id  359400 non-null  int64         \n",
      " 3   start_ts   359400 non-null  datetime64[ns]\n",
      " 4   uid        359400 non-null  uint64        \n",
      "dtypes: category(1), datetime64[ns](2), int64(1), uint64(1)\n",
      "memory usage: 11.3 MB\n"
     ]
    }
   ],
   "source": [
    "# Visualizing the data type\n",
    "df_logs.info()"
   ]
  },
  {
   "cell_type": "code",
   "execution_count": 74,
   "metadata": {},
   "outputs": [
    {
     "data": {
      "text/html": [
       "<div>\n",
       "<style scoped>\n",
       "    .dataframe tbody tr th:only-of-type {\n",
       "        vertical-align: middle;\n",
       "    }\n",
       "\n",
       "    .dataframe tbody tr th {\n",
       "        vertical-align: top;\n",
       "    }\n",
       "\n",
       "    .dataframe thead th {\n",
       "        text-align: right;\n",
       "    }\n",
       "</style>\n",
       "<table border=\"1\" class=\"dataframe\">\n",
       "  <thead>\n",
       "    <tr style=\"text-align: right;\">\n",
       "      <th></th>\n",
       "      <th>device</th>\n",
       "      <th>end_ts</th>\n",
       "      <th>source_id</th>\n",
       "      <th>start_ts</th>\n",
       "      <th>uid</th>\n",
       "    </tr>\n",
       "  </thead>\n",
       "  <tbody>\n",
       "    <tr>\n",
       "      <th>0</th>\n",
       "      <td>touch</td>\n",
       "      <td>2017-12-20 17:38:00</td>\n",
       "      <td>4</td>\n",
       "      <td>2017-12-20 17:20:00</td>\n",
       "      <td>16879256277535980062</td>\n",
       "    </tr>\n",
       "    <tr>\n",
       "      <th>1</th>\n",
       "      <td>desktop</td>\n",
       "      <td>2018-02-19 17:21:00</td>\n",
       "      <td>2</td>\n",
       "      <td>2018-02-19 16:53:00</td>\n",
       "      <td>104060357244891740</td>\n",
       "    </tr>\n",
       "    <tr>\n",
       "      <th>2</th>\n",
       "      <td>touch</td>\n",
       "      <td>2017-07-01 01:54:00</td>\n",
       "      <td>5</td>\n",
       "      <td>2017-07-01 01:54:00</td>\n",
       "      <td>7459035603376831527</td>\n",
       "    </tr>\n",
       "    <tr>\n",
       "      <th>3</th>\n",
       "      <td>desktop</td>\n",
       "      <td>2018-05-20 11:23:00</td>\n",
       "      <td>9</td>\n",
       "      <td>2018-05-20 10:59:00</td>\n",
       "      <td>16174680259334210214</td>\n",
       "    </tr>\n",
       "    <tr>\n",
       "      <th>4</th>\n",
       "      <td>desktop</td>\n",
       "      <td>2017-12-27 14:06:00</td>\n",
       "      <td>3</td>\n",
       "      <td>2017-12-27 14:06:00</td>\n",
       "      <td>9969694820036681168</td>\n",
       "    </tr>\n",
       "  </tbody>\n",
       "</table>\n",
       "</div>"
      ],
      "text/plain": [
       "    device              end_ts  source_id            start_ts  \\\n",
       "0    touch 2017-12-20 17:38:00          4 2017-12-20 17:20:00   \n",
       "1  desktop 2018-02-19 17:21:00          2 2018-02-19 16:53:00   \n",
       "2    touch 2017-07-01 01:54:00          5 2017-07-01 01:54:00   \n",
       "3  desktop 2018-05-20 11:23:00          9 2018-05-20 10:59:00   \n",
       "4  desktop 2017-12-27 14:06:00          3 2017-12-27 14:06:00   \n",
       "\n",
       "                    uid  \n",
       "0  16879256277535980062  \n",
       "1    104060357244891740  \n",
       "2   7459035603376831527  \n",
       "3  16174680259334210214  \n",
       "4   9969694820036681168  "
      ]
     },
     "execution_count": 74,
     "metadata": {},
     "output_type": "execute_result"
    }
   ],
   "source": [
    "df_logs.head() # Visualizing the data"
   ]
  },
  {
   "cell_type": "code",
   "execution_count": 75,
   "metadata": {},
   "outputs": [
    {
     "name": "stdout",
     "output_type": "stream",
     "text": [
      "<class 'pandas.core.frame.DataFrame'>\n",
      "RangeIndex: 50415 entries, 0 to 50414\n",
      "Data columns (total 3 columns):\n",
      " #   Column   Non-Null Count  Dtype         \n",
      "---  ------   --------------  -----         \n",
      " 0   buy_ts   50415 non-null  datetime64[ns]\n",
      " 1   revenue  50415 non-null  float64       \n",
      " 2   uid      50415 non-null  uint64        \n",
      "dtypes: datetime64[ns](1), float64(1), uint64(1)\n",
      "memory usage: 1.2 MB\n"
     ]
    }
   ],
   "source": [
    "# Visualizing the data type\n",
    "df_orders.info()"
   ]
  },
  {
   "cell_type": "code",
   "execution_count": 76,
   "metadata": {},
   "outputs": [
    {
     "data": {
      "text/html": [
       "<div>\n",
       "<style scoped>\n",
       "    .dataframe tbody tr th:only-of-type {\n",
       "        vertical-align: middle;\n",
       "    }\n",
       "\n",
       "    .dataframe tbody tr th {\n",
       "        vertical-align: top;\n",
       "    }\n",
       "\n",
       "    .dataframe thead th {\n",
       "        text-align: right;\n",
       "    }\n",
       "</style>\n",
       "<table border=\"1\" class=\"dataframe\">\n",
       "  <thead>\n",
       "    <tr style=\"text-align: right;\">\n",
       "      <th></th>\n",
       "      <th>buy_ts</th>\n",
       "      <th>revenue</th>\n",
       "      <th>uid</th>\n",
       "    </tr>\n",
       "  </thead>\n",
       "  <tbody>\n",
       "    <tr>\n",
       "      <th>0</th>\n",
       "      <td>2017-06-01 00:10:00</td>\n",
       "      <td>17.00</td>\n",
       "      <td>10329302124590727494</td>\n",
       "    </tr>\n",
       "    <tr>\n",
       "      <th>1</th>\n",
       "      <td>2017-06-01 00:25:00</td>\n",
       "      <td>0.55</td>\n",
       "      <td>11627257723692907447</td>\n",
       "    </tr>\n",
       "    <tr>\n",
       "      <th>2</th>\n",
       "      <td>2017-06-01 00:27:00</td>\n",
       "      <td>0.37</td>\n",
       "      <td>17903680561304213844</td>\n",
       "    </tr>\n",
       "    <tr>\n",
       "      <th>3</th>\n",
       "      <td>2017-06-01 00:29:00</td>\n",
       "      <td>0.55</td>\n",
       "      <td>16109239769442553005</td>\n",
       "    </tr>\n",
       "    <tr>\n",
       "      <th>4</th>\n",
       "      <td>2017-06-01 07:58:00</td>\n",
       "      <td>0.37</td>\n",
       "      <td>14200605875248379450</td>\n",
       "    </tr>\n",
       "  </tbody>\n",
       "</table>\n",
       "</div>"
      ],
      "text/plain": [
       "               buy_ts  revenue                   uid\n",
       "0 2017-06-01 00:10:00    17.00  10329302124590727494\n",
       "1 2017-06-01 00:25:00     0.55  11627257723692907447\n",
       "2 2017-06-01 00:27:00     0.37  17903680561304213844\n",
       "3 2017-06-01 00:29:00     0.55  16109239769442553005\n",
       "4 2017-06-01 07:58:00     0.37  14200605875248379450"
      ]
     },
     "execution_count": 76,
     "metadata": {},
     "output_type": "execute_result"
    }
   ],
   "source": [
    "df_orders.head() # Visualizing the data"
   ]
  },
  {
   "cell_type": "code",
   "execution_count": 77,
   "metadata": {},
   "outputs": [
    {
     "name": "stdout",
     "output_type": "stream",
     "text": [
      "<class 'pandas.core.frame.DataFrame'>\n",
      "RangeIndex: 2542 entries, 0 to 2541\n",
      "Data columns (total 3 columns):\n",
      " #   Column     Non-Null Count  Dtype         \n",
      "---  ------     --------------  -----         \n",
      " 0   source_id  2542 non-null   int64         \n",
      " 1   dt         2542 non-null   datetime64[ns]\n",
      " 2   costs      2542 non-null   float64       \n",
      "dtypes: datetime64[ns](1), float64(1), int64(1)\n",
      "memory usage: 59.7 KB\n"
     ]
    }
   ],
   "source": [
    "# Visualizing the data type\n",
    "df_costs.info()"
   ]
  },
  {
   "cell_type": "code",
   "execution_count": 78,
   "metadata": {},
   "outputs": [
    {
     "data": {
      "text/html": [
       "<div>\n",
       "<style scoped>\n",
       "    .dataframe tbody tr th:only-of-type {\n",
       "        vertical-align: middle;\n",
       "    }\n",
       "\n",
       "    .dataframe tbody tr th {\n",
       "        vertical-align: top;\n",
       "    }\n",
       "\n",
       "    .dataframe thead th {\n",
       "        text-align: right;\n",
       "    }\n",
       "</style>\n",
       "<table border=\"1\" class=\"dataframe\">\n",
       "  <thead>\n",
       "    <tr style=\"text-align: right;\">\n",
       "      <th></th>\n",
       "      <th>source_id</th>\n",
       "      <th>dt</th>\n",
       "      <th>costs</th>\n",
       "    </tr>\n",
       "  </thead>\n",
       "  <tbody>\n",
       "    <tr>\n",
       "      <th>0</th>\n",
       "      <td>1</td>\n",
       "      <td>2017-06-01</td>\n",
       "      <td>75.20</td>\n",
       "    </tr>\n",
       "    <tr>\n",
       "      <th>1</th>\n",
       "      <td>1</td>\n",
       "      <td>2017-06-02</td>\n",
       "      <td>62.25</td>\n",
       "    </tr>\n",
       "    <tr>\n",
       "      <th>2</th>\n",
       "      <td>1</td>\n",
       "      <td>2017-06-03</td>\n",
       "      <td>36.53</td>\n",
       "    </tr>\n",
       "    <tr>\n",
       "      <th>3</th>\n",
       "      <td>1</td>\n",
       "      <td>2017-06-04</td>\n",
       "      <td>55.00</td>\n",
       "    </tr>\n",
       "    <tr>\n",
       "      <th>4</th>\n",
       "      <td>1</td>\n",
       "      <td>2017-06-05</td>\n",
       "      <td>57.08</td>\n",
       "    </tr>\n",
       "  </tbody>\n",
       "</table>\n",
       "</div>"
      ],
      "text/plain": [
       "   source_id         dt  costs\n",
       "0          1 2017-06-01  75.20\n",
       "1          1 2017-06-02  62.25\n",
       "2          1 2017-06-03  36.53\n",
       "3          1 2017-06-04  55.00\n",
       "4          1 2017-06-05  57.08"
      ]
     },
     "execution_count": 78,
     "metadata": {},
     "output_type": "execute_result"
    }
   ],
   "source": [
    "df_costs.head() # Visualizing the data"
   ]
  },
  {
   "cell_type": "markdown",
   "metadata": {},
   "source": [
    "Note: So far, changes have been made to the data to ensure that the columns have the correct data types for us to proceed with the analysis."
   ]
  },
  {
   "cell_type": "markdown",
   "metadata": {},
   "source": [
    "## Creating a report and calculating metrics"
   ]
  },
  {
   "cell_type": "markdown",
   "metadata": {},
   "source": [
    "# Product\n"
   ]
  },
  {
   "cell_type": "code",
   "execution_count": 79,
   "metadata": {
    "scrolled": true
   },
   "outputs": [
    {
     "name": "stdout",
     "output_type": "stream",
     "text": [
      "    device              end_ts  source_id            start_ts  \\\n",
      "0    touch 2017-12-20 17:38:00          4 2017-12-20 17:20:00   \n",
      "1  desktop 2018-02-19 17:21:00          2 2018-02-19 16:53:00   \n",
      "2    touch 2017-07-01 01:54:00          5 2017-07-01 01:54:00   \n",
      "3  desktop 2018-05-20 11:23:00          9 2018-05-20 10:59:00   \n",
      "4  desktop 2017-12-27 14:06:00          3 2017-12-27 14:06:00   \n",
      "\n",
      "                    uid  session_year  session_month  session_week  \\\n",
      "0  16879256277535980062          2017             12            51   \n",
      "1    104060357244891740          2018              2             8   \n",
      "2   7459035603376831527          2017              7            26   \n",
      "3  16174680259334210214          2018              5            20   \n",
      "4   9969694820036681168          2017             12            52   \n",
      "\n",
      "  session_date  \n",
      "0   2017-12-20  \n",
      "1   2018-02-19  \n",
      "2   2017-07-01  \n",
      "3   2018-05-20  \n",
      "4   2017-12-27  \n"
     ]
    }
   ],
   "source": [
    "# Quantas pessoas usam-no cada dia, semana e mês?\n",
    "# Para calcular a atividade semanal e mensal, primeiro criaremos as colunas separadas para os valores de ano, mês e semana.\n",
    "\n",
    "df_logs['session_year'] = df_logs['start_ts'].dt.year # coluna de Ano\n",
    "df_logs['session_month'] = df_logs['start_ts'].dt.month # coluna de Mês\n",
    "df_logs['session_week'] = df_logs['start_ts'].dt.isocalendar().week # coluna de Semana\n",
    "df_logs['session_date'] = df_logs['start_ts'].dt.date # # coluna da Data\n",
    "print(df_logs.head())"
   ]
  },
  {
   "cell_type": "markdown",
   "metadata": {},
   "source": [
    "Note: The columns were separated by year, month, and week values.\n",
    "\n",
    "\n",
    "\n",
    "\n",
    "\n",
    "\n"
   ]
  },
  {
   "cell_type": "code",
   "execution_count": 80,
   "metadata": {},
   "outputs": [
    {
     "data": {
      "text/html": [
       "<div>\n",
       "<style scoped>\n",
       "    .dataframe tbody tr th:only-of-type {\n",
       "        vertical-align: middle;\n",
       "    }\n",
       "\n",
       "    .dataframe tbody tr th {\n",
       "        vertical-align: top;\n",
       "    }\n",
       "\n",
       "    .dataframe thead th {\n",
       "        text-align: right;\n",
       "    }\n",
       "</style>\n",
       "<table border=\"1\" class=\"dataframe\">\n",
       "  <thead>\n",
       "    <tr style=\"text-align: right;\">\n",
       "      <th></th>\n",
       "      <th></th>\n",
       "      <th>n_sessions</th>\n",
       "      <th>n_users</th>\n",
       "      <th>session_per_user</th>\n",
       "    </tr>\n",
       "    <tr>\n",
       "      <th>session_year</th>\n",
       "      <th>session_month</th>\n",
       "      <th></th>\n",
       "      <th></th>\n",
       "      <th></th>\n",
       "    </tr>\n",
       "  </thead>\n",
       "  <tbody>\n",
       "    <tr>\n",
       "      <th rowspan=\"7\" valign=\"top\">2017</th>\n",
       "      <th>6</th>\n",
       "      <td>16505</td>\n",
       "      <td>13259</td>\n",
       "      <td>1.244815</td>\n",
       "    </tr>\n",
       "    <tr>\n",
       "      <th>7</th>\n",
       "      <td>17828</td>\n",
       "      <td>14183</td>\n",
       "      <td>1.256998</td>\n",
       "    </tr>\n",
       "    <tr>\n",
       "      <th>8</th>\n",
       "      <td>14355</td>\n",
       "      <td>11631</td>\n",
       "      <td>1.234202</td>\n",
       "    </tr>\n",
       "    <tr>\n",
       "      <th>9</th>\n",
       "      <td>23907</td>\n",
       "      <td>18975</td>\n",
       "      <td>1.259921</td>\n",
       "    </tr>\n",
       "    <tr>\n",
       "      <th>10</th>\n",
       "      <td>37903</td>\n",
       "      <td>29692</td>\n",
       "      <td>1.276539</td>\n",
       "    </tr>\n",
       "    <tr>\n",
       "      <th>11</th>\n",
       "      <td>43969</td>\n",
       "      <td>32797</td>\n",
       "      <td>1.340641</td>\n",
       "    </tr>\n",
       "    <tr>\n",
       "      <th>12</th>\n",
       "      <td>41983</td>\n",
       "      <td>31557</td>\n",
       "      <td>1.330386</td>\n",
       "    </tr>\n",
       "    <tr>\n",
       "      <th rowspan=\"5\" valign=\"top\">2018</th>\n",
       "      <th>1</th>\n",
       "      <td>36939</td>\n",
       "      <td>28716</td>\n",
       "      <td>1.286356</td>\n",
       "    </tr>\n",
       "    <tr>\n",
       "      <th>2</th>\n",
       "      <td>37182</td>\n",
       "      <td>28749</td>\n",
       "      <td>1.293332</td>\n",
       "    </tr>\n",
       "    <tr>\n",
       "      <th>3</th>\n",
       "      <td>35679</td>\n",
       "      <td>27473</td>\n",
       "      <td>1.298693</td>\n",
       "    </tr>\n",
       "    <tr>\n",
       "      <th>4</th>\n",
       "      <td>26515</td>\n",
       "      <td>21008</td>\n",
       "      <td>1.262138</td>\n",
       "    </tr>\n",
       "    <tr>\n",
       "      <th>5</th>\n",
       "      <td>26635</td>\n",
       "      <td>20701</td>\n",
       "      <td>1.286653</td>\n",
       "    </tr>\n",
       "  </tbody>\n",
       "</table>\n",
       "</div>"
      ],
      "text/plain": [
       "                            n_sessions  n_users  session_per_user\n",
       "session_year session_month                                       \n",
       "2017         6                   16505    13259          1.244815\n",
       "             7                   17828    14183          1.256998\n",
       "             8                   14355    11631          1.234202\n",
       "             9                   23907    18975          1.259921\n",
       "             10                  37903    29692          1.276539\n",
       "             11                  43969    32797          1.340641\n",
       "             12                  41983    31557          1.330386\n",
       "2018         1                   36939    28716          1.286356\n",
       "             2                   37182    28749          1.293332\n",
       "             3                   35679    27473          1.298693\n",
       "             4                   26515    21008          1.262138\n",
       "             5                   26635    20701          1.286653"
      ]
     },
     "execution_count": 80,
     "metadata": {},
     "output_type": "execute_result"
    }
   ],
   "source": [
    "# How many sessions occur per day? (a user can have multiple sessions).\n",
    "df_logs['end_ts'] = pd.to_datetime(df_logs['end_ts'])\n",
    "df_logs['session_year'] = df_logs['start_ts'].dt.year\n",
    "df_logs['session_month'] = df_logs['start_ts'].dt.month\n",
    "session_per_user = df_logs.groupby(['session_year', 'session_month']).agg(\n",
    "    {'uid': ['count', 'nunique']}\n",
    ")\n",
    "session_per_user.columns = ['n_sessions', 'n_users']\n",
    "session_per_user['session_per_user'] = (\n",
    "    session_per_user['n_sessions'] / session_per_user['n_users']\n",
    ")\n",
    "\n",
    "session_per_user"
   ]
  },
  {
   "cell_type": "markdown",
   "metadata": {},
   "source": [
    "Note: By extracting data by year, month, number of sessions, and unique users, we identified the months with the highest retention rates. In 2017, these were October (10) and November (11), while in 2018, they were January (1), February (2), and May (5), where we observed a high number of users and sessions."
   ]
  },
  {
   "cell_type": "code",
   "execution_count": 81,
   "metadata": {
    "scrolled": true
   },
   "outputs": [
    {
     "data": {
      "text/plain": [
       "0    60\n",
       "Name: session_duration_sec, dtype: int32"
      ]
     },
     "execution_count": 81,
     "metadata": {},
     "output_type": "execute_result"
    }
   ],
   "source": [
    "# What is the length of each session?\n",
    "df_logs['session_duration_sec'] = (df_logs['end_ts'] - df_logs['start_ts']).dt.seconds\n",
    "df_logs['session_duration_sec'].mode()"
   ]
  },
  {
   "cell_type": "code",
   "execution_count": 82,
   "metadata": {
    "scrolled": false
   },
   "outputs": [
    {
     "data": {
      "text/plain": [
       "<Axes: >"
      ]
     },
     "execution_count": 82,
     "metadata": {},
     "output_type": "execute_result"
    },
    {
     "data": {
      "image/png": "[encoded data removed]",
      "text/plain": [
       "<Figure size 640x480 with 1 Axes>"
      ]
     },
     "metadata": {},
     "output_type": "display_data"
    }
   ],
   "source": [
    "# Observing the distribution\n",
    "df_logs['session_duration_sec'].hist(bins=50)"
   ]
  },
  {
   "cell_type": "markdown",
   "metadata": {},
   "source": [
    "Note: Using the mode, we can identify that most customers spend around 60 seconds on the app, but there are variations among users who stay longer than 60 seconds and those who stay shorter.\n",
    "\n",
    "Note: Using the average, each session lasts approximately 621 seconds, which is 10 minutes and 21 seconds per session (not feasible).\n",
    "\n",
    "Note: Using the median, each session lasts around 300 seconds, which is 5 minutes per session (not feasible)."
   ]
  },
  {
   "cell_type": "code",
   "execution_count": 83,
   "metadata": {
    "scrolled": true
   },
   "outputs": [
    {
     "name": "stdout",
     "output_type": "stream",
     "text": [
      "uid    15.884409\n",
      "dtype: float64\n",
      "uid    3.90897\n",
      "dtype: float64\n"
     ]
    }
   ],
   "source": [
    "# Calculating metrics to determine user frequency\n",
    "mau_total = df_logs.groupby(['session_year', 'session_month']).agg({'uid': 'nunique'}).mean()\n",
    "wau_total = df_logs.groupby(['session_year', 'session_week']).agg({'uid': 'nunique'}).mean()\n",
    "dau_total = df_logs.groupby('session_date').agg({'uid': 'nunique'}).mean()\n",
    "#print(int(mau_total))\n",
    "#print(int(wau_total))\n",
    "#print(int(dau_total))\n",
    "\n",
    "# How often do users return?\n",
    "# To determine how often users return to the app, we calculate the retention rate.\n",
    "sticky_wau = dau_total / wau_total * 100\n",
    "sticky_mau = dau_total / mau_total * 100\n",
    "print(sticky_wau)\n",
    "print(sticky_mau)"
   ]
  },
  {
   "cell_type": "markdown",
   "metadata": {},
   "source": [
    "Note: We obtained the frequency of users on a weekly and monthly basis. Weekly, we have a retention rate of 15.8%, and monthly, we have a retention rate of 3.9%.\n",
    "\n",
    "Note: The platform is managing to attract users back on a weekly basis at a moderate rate, but it is facing significant challenges in retaining these users over the course of a month. To improve retention, we can review and enhance the content, usability, and incentives offered to users. "
   ]
  },
  {
   "cell_type": "markdown",
   "metadata": {},
   "source": [
    "#  Sales"
   ]
  },
  {
   "cell_type": "markdown",
   "metadata": {},
   "source": [
    "When do people start buying? (In KPI analysis, we are generally interested in knowing the time period between registration and conversion—when the user becomes a customer. For example, if a user registers and makes their first purchase on the same day, it can be categorized as Conversion 0d. If the purchase is made the following day, it will be Conversion 1d. You can use any approach that allows you to compare conversions across different cohorts, so you can determine which cohort or marketing channel has the highest efficiency.)"
   ]
  },
  {
   "cell_type": "code",
   "execution_count": 84,
   "metadata": {
    "scrolled": false
   },
   "outputs": [
    {
     "data": {
      "text/html": [
       "<div>\n",
       "<style scoped>\n",
       "    .dataframe tbody tr th:only-of-type {\n",
       "        vertical-align: middle;\n",
       "    }\n",
       "\n",
       "    .dataframe tbody tr th {\n",
       "        vertical-align: top;\n",
       "    }\n",
       "\n",
       "    .dataframe thead th {\n",
       "        text-align: right;\n",
       "    }\n",
       "</style>\n",
       "<table border=\"1\" class=\"dataframe\">\n",
       "  <thead>\n",
       "    <tr style=\"text-align: right;\">\n",
       "      <th></th>\n",
       "      <th>start_ts</th>\n",
       "      <th>buy_ts</th>\n",
       "    </tr>\n",
       "    <tr>\n",
       "      <th>uid</th>\n",
       "      <th></th>\n",
       "      <th></th>\n",
       "    </tr>\n",
       "  </thead>\n",
       "  <tbody>\n",
       "    <tr>\n",
       "      <th>313578113262317</th>\n",
       "      <td>2017-09-18 22:49:00</td>\n",
       "      <td>2018-01-03 21:51:00</td>\n",
       "    </tr>\n",
       "    <tr>\n",
       "      <th>1575281904278712</th>\n",
       "      <td>2017-06-03 10:13:00</td>\n",
       "      <td>2017-06-03 10:13:00</td>\n",
       "    </tr>\n",
       "    <tr>\n",
       "      <th>2429014661409475</th>\n",
       "      <td>2017-10-11 17:14:00</td>\n",
       "      <td>2017-10-11 18:33:00</td>\n",
       "    </tr>\n",
       "    <tr>\n",
       "      <th>2464366381792757</th>\n",
       "      <td>2018-01-27 20:10:00</td>\n",
       "      <td>2018-01-28 15:54:00</td>\n",
       "    </tr>\n",
       "    <tr>\n",
       "      <th>2551852515556206</th>\n",
       "      <td>2017-11-24 10:14:00</td>\n",
       "      <td>2017-11-24 10:14:00</td>\n",
       "    </tr>\n",
       "    <tr>\n",
       "      <th>...</th>\n",
       "      <td>...</td>\n",
       "      <td>...</td>\n",
       "    </tr>\n",
       "    <tr>\n",
       "      <th>18445147675727495770</th>\n",
       "      <td>2017-08-20 13:30:00</td>\n",
       "      <td>2017-11-24 09:03:00</td>\n",
       "    </tr>\n",
       "    <tr>\n",
       "      <th>18445407535914413204</th>\n",
       "      <td>2017-09-22 23:48:00</td>\n",
       "      <td>2017-09-22 23:55:00</td>\n",
       "    </tr>\n",
       "    <tr>\n",
       "      <th>18445601152732270159</th>\n",
       "      <td>2017-08-07 11:51:00</td>\n",
       "      <td>2018-03-26 22:54:00</td>\n",
       "    </tr>\n",
       "    <tr>\n",
       "      <th>18446156210226471712</th>\n",
       "      <td>2017-11-07 10:01:00</td>\n",
       "      <td>2018-02-18 19:34:00</td>\n",
       "    </tr>\n",
       "    <tr>\n",
       "      <th>18446167067214817906</th>\n",
       "      <td>2017-10-17 10:05:00</td>\n",
       "      <td>2017-10-17 10:16:00</td>\n",
       "    </tr>\n",
       "  </tbody>\n",
       "</table>\n",
       "<p>36523 rows × 2 columns</p>\n",
       "</div>"
      ],
      "text/plain": [
       "                                start_ts              buy_ts\n",
       "uid                                                         \n",
       "313578113262317      2017-09-18 22:49:00 2018-01-03 21:51:00\n",
       "1575281904278712     2017-06-03 10:13:00 2017-06-03 10:13:00\n",
       "2429014661409475     2017-10-11 17:14:00 2017-10-11 18:33:00\n",
       "2464366381792757     2018-01-27 20:10:00 2018-01-28 15:54:00\n",
       "2551852515556206     2017-11-24 10:14:00 2017-11-24 10:14:00\n",
       "...                                  ...                 ...\n",
       "18445147675727495770 2017-08-20 13:30:00 2017-11-24 09:03:00\n",
       "18445407535914413204 2017-09-22 23:48:00 2017-09-22 23:55:00\n",
       "18445601152732270159 2017-08-07 11:51:00 2018-03-26 22:54:00\n",
       "18446156210226471712 2017-11-07 10:01:00 2018-02-18 19:34:00\n",
       "18446167067214817906 2017-10-17 10:05:00 2017-10-17 10:16:00\n",
       "\n",
       "[36523 rows x 2 columns]"
      ]
     },
     "execution_count": 84,
     "metadata": {},
     "output_type": "execute_result"
    }
   ],
   "source": [
    "# Obtaining data on the registration start date and the date of the first purchase.\n",
    "df_t_min = df_logs.groupby(['uid'])['start_ts'].min()\n",
    "dfo_t_min = df_orders.groupby(['uid'])['buy_ts'].min()\n",
    "df_merged = pd.merge(df_t_min, dfo_t_min, on='uid')\n",
    "df_merged"
   ]
  },
  {
   "cell_type": "code",
   "execution_count": 85,
   "metadata": {
    "scrolled": true
   },
   "outputs": [
    {
     "data": {
      "text/plain": [
       "uid\n",
       "313578113262317         106\n",
       "1575281904278712          0\n",
       "2429014661409475          0\n",
       "2464366381792757          0\n",
       "2551852515556206          0\n",
       "                       ... \n",
       "18445147675727495770     95\n",
       "18445407535914413204      0\n",
       "18445601152732270159    231\n",
       "18446156210226471712    103\n",
       "18446167067214817906      0\n",
       "Name: days_until_first_buy, Length: 36523, dtype: int32"
      ]
     },
     "execution_count": 85,
     "metadata": {},
     "output_type": "execute_result"
    }
   ],
   "source": [
    "# Obtaining data on the number of days users took to make their first purchase.\n",
    "df_merged['days_until_first_buy'] = ((df_merged['buy_ts'] - df_merged['start_ts']) / np.timedelta64(1,'D')).astype('int')\n",
    "df_merged['days_until_first_buy']"
   ]
  },
  {
   "cell_type": "code",
   "execution_count": 86,
   "metadata": {},
   "outputs": [
    {
     "name": "stdout",
     "output_type": "stream",
     "text": [
      "count    36523.000000\n",
      "mean        16.729869\n",
      "std         46.959088\n",
      "min          0.000000\n",
      "25%          0.000000\n",
      "50%          0.000000\n",
      "75%          2.000000\n",
      "max        363.000000\n",
      "Name: days_until_first_buy, dtype: float64\n"
     ]
    }
   ],
   "source": [
    "# Getting an idea of the distribution of the data fields.\n",
    "print(df_merged['days_until_first_buy'].describe())"
   ]
  },
  {
   "cell_type": "code",
   "execution_count": 102,
   "metadata": {
    "scrolled": false
   },
   "outputs": [
    {
     "data": {
      "image/png": "[encoded data removed]",
      "text/plain": [
       "<Figure size 1200x700 with 1 Axes>"
      ]
     },
     "metadata": {},
     "output_type": "display_data"
    }
   ],
   "source": [
    "# Plotting a graph for better analysis\n",
    "df_merged['days_until_first_buy'].plot(kind='hist', bins=100, figsize=(12,7));"
   ]
  },
  {
   "cell_type": "markdown",
   "metadata": {},
   "source": [
    "Obs: A maioria das compras estão acontecendo logo após o cadastro dos nosso usuários ou seja a primeira compra de um usuário ocorrem com mais frequencia no dia do cadastro."
   ]
  },
  {
   "cell_type": "code",
   "execution_count": 103,
   "metadata": {},
   "outputs": [
    {
     "data": {
      "text/html": [
       "<div>\n",
       "<style scoped>\n",
       "    .dataframe tbody tr th:only-of-type {\n",
       "        vertical-align: middle;\n",
       "    }\n",
       "\n",
       "    .dataframe tbody tr th {\n",
       "        vertical-align: top;\n",
       "    }\n",
       "\n",
       "    .dataframe thead th {\n",
       "        text-align: right;\n",
       "    }\n",
       "</style>\n",
       "<table border=\"1\" class=\"dataframe\">\n",
       "  <thead>\n",
       "    <tr style=\"text-align: right;\">\n",
       "      <th>period_number</th>\n",
       "      <th>0</th>\n",
       "      <th>1</th>\n",
       "      <th>2</th>\n",
       "      <th>3</th>\n",
       "      <th>4</th>\n",
       "      <th>5</th>\n",
       "      <th>6</th>\n",
       "      <th>7</th>\n",
       "      <th>8</th>\n",
       "      <th>9</th>\n",
       "      <th>10</th>\n",
       "      <th>11</th>\n",
       "    </tr>\n",
       "    <tr>\n",
       "      <th>cohort</th>\n",
       "      <th></th>\n",
       "      <th></th>\n",
       "      <th></th>\n",
       "      <th></th>\n",
       "      <th></th>\n",
       "      <th></th>\n",
       "      <th></th>\n",
       "      <th></th>\n",
       "      <th></th>\n",
       "      <th></th>\n",
       "      <th></th>\n",
       "      <th></th>\n",
       "    </tr>\n",
       "  </thead>\n",
       "  <tbody>\n",
       "    <tr>\n",
       "      <th>2017-06</th>\n",
       "      <td>4.72</td>\n",
       "      <td>16.10</td>\n",
       "      <td>17.71</td>\n",
       "      <td>35.76</td>\n",
       "      <td>23.51</td>\n",
       "      <td>22.21</td>\n",
       "      <td>31.01</td>\n",
       "      <td>25.03</td>\n",
       "      <td>19.30</td>\n",
       "      <td>27.23</td>\n",
       "      <td>25.68</td>\n",
       "      <td>9.8</td>\n",
       "    </tr>\n",
       "    <tr>\n",
       "      <th>2017-07</th>\n",
       "      <td>6.01</td>\n",
       "      <td>12.40</td>\n",
       "      <td>21.04</td>\n",
       "      <td>10.79</td>\n",
       "      <td>6.94</td>\n",
       "      <td>7.90</td>\n",
       "      <td>6.42</td>\n",
       "      <td>6.99</td>\n",
       "      <td>7.38</td>\n",
       "      <td>12.86</td>\n",
       "      <td>11.51</td>\n",
       "      <td>NaN</td>\n",
       "    </tr>\n",
       "    <tr>\n",
       "      <th>2017-08</th>\n",
       "      <td>5.28</td>\n",
       "      <td>11.15</td>\n",
       "      <td>11.85</td>\n",
       "      <td>12.18</td>\n",
       "      <td>16.92</td>\n",
       "      <td>12.14</td>\n",
       "      <td>9.62</td>\n",
       "      <td>12.61</td>\n",
       "      <td>21.07</td>\n",
       "      <td>8.31</td>\n",
       "      <td>NaN</td>\n",
       "      <td>NaN</td>\n",
       "    </tr>\n",
       "    <tr>\n",
       "      <th>2017-09</th>\n",
       "      <td>5.64</td>\n",
       "      <td>22.19</td>\n",
       "      <td>13.45</td>\n",
       "      <td>138.67</td>\n",
       "      <td>19.88</td>\n",
       "      <td>26.10</td>\n",
       "      <td>27.44</td>\n",
       "      <td>16.96</td>\n",
       "      <td>11.04</td>\n",
       "      <td>NaN</td>\n",
       "      <td>NaN</td>\n",
       "      <td>NaN</td>\n",
       "    </tr>\n",
       "    <tr>\n",
       "      <th>2017-10</th>\n",
       "      <td>5.00</td>\n",
       "      <td>11.29</td>\n",
       "      <td>6.75</td>\n",
       "      <td>7.41</td>\n",
       "      <td>7.07</td>\n",
       "      <td>7.26</td>\n",
       "      <td>6.57</td>\n",
       "      <td>7.48</td>\n",
       "      <td>NaN</td>\n",
       "      <td>NaN</td>\n",
       "      <td>NaN</td>\n",
       "      <td>NaN</td>\n",
       "    </tr>\n",
       "    <tr>\n",
       "      <th>2017-11</th>\n",
       "      <td>5.15</td>\n",
       "      <td>7.34</td>\n",
       "      <td>6.79</td>\n",
       "      <td>12.51</td>\n",
       "      <td>7.46</td>\n",
       "      <td>4.58</td>\n",
       "      <td>7.56</td>\n",
       "      <td>NaN</td>\n",
       "      <td>NaN</td>\n",
       "      <td>NaN</td>\n",
       "      <td>NaN</td>\n",
       "      <td>NaN</td>\n",
       "    </tr>\n",
       "    <tr>\n",
       "      <th>2017-12</th>\n",
       "      <td>4.74</td>\n",
       "      <td>7.82</td>\n",
       "      <td>39.37</td>\n",
       "      <td>48.14</td>\n",
       "      <td>27.43</td>\n",
       "      <td>23.52</td>\n",
       "      <td>NaN</td>\n",
       "      <td>NaN</td>\n",
       "      <td>NaN</td>\n",
       "      <td>NaN</td>\n",
       "      <td>NaN</td>\n",
       "      <td>NaN</td>\n",
       "    </tr>\n",
       "    <tr>\n",
       "      <th>2018-01</th>\n",
       "      <td>4.14</td>\n",
       "      <td>8.72</td>\n",
       "      <td>12.37</td>\n",
       "      <td>11.20</td>\n",
       "      <td>4.70</td>\n",
       "      <td>NaN</td>\n",
       "      <td>NaN</td>\n",
       "      <td>NaN</td>\n",
       "      <td>NaN</td>\n",
       "      <td>NaN</td>\n",
       "      <td>NaN</td>\n",
       "      <td>NaN</td>\n",
       "    </tr>\n",
       "    <tr>\n",
       "      <th>2018-02</th>\n",
       "      <td>4.16</td>\n",
       "      <td>8.61</td>\n",
       "      <td>4.94</td>\n",
       "      <td>6.94</td>\n",
       "      <td>NaN</td>\n",
       "      <td>NaN</td>\n",
       "      <td>NaN</td>\n",
       "      <td>NaN</td>\n",
       "      <td>NaN</td>\n",
       "      <td>NaN</td>\n",
       "      <td>NaN</td>\n",
       "      <td>NaN</td>\n",
       "    </tr>\n",
       "    <tr>\n",
       "      <th>2018-03</th>\n",
       "      <td>4.84</td>\n",
       "      <td>11.81</td>\n",
       "      <td>19.22</td>\n",
       "      <td>NaN</td>\n",
       "      <td>NaN</td>\n",
       "      <td>NaN</td>\n",
       "      <td>NaN</td>\n",
       "      <td>NaN</td>\n",
       "      <td>NaN</td>\n",
       "      <td>NaN</td>\n",
       "      <td>NaN</td>\n",
       "      <td>NaN</td>\n",
       "    </tr>\n",
       "    <tr>\n",
       "      <th>2018-04</th>\n",
       "      <td>4.66</td>\n",
       "      <td>17.54</td>\n",
       "      <td>NaN</td>\n",
       "      <td>NaN</td>\n",
       "      <td>NaN</td>\n",
       "      <td>NaN</td>\n",
       "      <td>NaN</td>\n",
       "      <td>NaN</td>\n",
       "      <td>NaN</td>\n",
       "      <td>NaN</td>\n",
       "      <td>NaN</td>\n",
       "      <td>NaN</td>\n",
       "    </tr>\n",
       "    <tr>\n",
       "      <th>2018-05</th>\n",
       "      <td>4.66</td>\n",
       "      <td>NaN</td>\n",
       "      <td>NaN</td>\n",
       "      <td>NaN</td>\n",
       "      <td>NaN</td>\n",
       "      <td>NaN</td>\n",
       "      <td>NaN</td>\n",
       "      <td>NaN</td>\n",
       "      <td>NaN</td>\n",
       "      <td>NaN</td>\n",
       "      <td>NaN</td>\n",
       "      <td>NaN</td>\n",
       "    </tr>\n",
       "    <tr>\n",
       "      <th>2018-06</th>\n",
       "      <td>3.42</td>\n",
       "      <td>NaN</td>\n",
       "      <td>NaN</td>\n",
       "      <td>NaN</td>\n",
       "      <td>NaN</td>\n",
       "      <td>NaN</td>\n",
       "      <td>NaN</td>\n",
       "      <td>NaN</td>\n",
       "      <td>NaN</td>\n",
       "      <td>NaN</td>\n",
       "      <td>NaN</td>\n",
       "      <td>NaN</td>\n",
       "    </tr>\n",
       "  </tbody>\n",
       "</table>\n",
       "</div>"
      ],
      "text/plain": [
       "period_number    0      1      2       3      4      5      6      7      8   \\\n",
       "cohort                                                                         \n",
       "2017-06        4.72  16.10  17.71   35.76  23.51  22.21  31.01  25.03  19.30   \n",
       "2017-07        6.01  12.40  21.04   10.79   6.94   7.90   6.42   6.99   7.38   \n",
       "2017-08        5.28  11.15  11.85   12.18  16.92  12.14   9.62  12.61  21.07   \n",
       "2017-09        5.64  22.19  13.45  138.67  19.88  26.10  27.44  16.96  11.04   \n",
       "2017-10        5.00  11.29   6.75    7.41   7.07   7.26   6.57   7.48    NaN   \n",
       "2017-11        5.15   7.34   6.79   12.51   7.46   4.58   7.56    NaN    NaN   \n",
       "2017-12        4.74   7.82  39.37   48.14  27.43  23.52    NaN    NaN    NaN   \n",
       "2018-01        4.14   8.72  12.37   11.20   4.70    NaN    NaN    NaN    NaN   \n",
       "2018-02        4.16   8.61   4.94    6.94    NaN    NaN    NaN    NaN    NaN   \n",
       "2018-03        4.84  11.81  19.22     NaN    NaN    NaN    NaN    NaN    NaN   \n",
       "2018-04        4.66  17.54    NaN     NaN    NaN    NaN    NaN    NaN    NaN   \n",
       "2018-05        4.66    NaN    NaN     NaN    NaN    NaN    NaN    NaN    NaN   \n",
       "2018-06        3.42    NaN    NaN     NaN    NaN    NaN    NaN    NaN    NaN   \n",
       "\n",
       "period_number     9      10   11  \n",
       "cohort                            \n",
       "2017-06        27.23  25.68  9.8  \n",
       "2017-07        12.86  11.51  NaN  \n",
       "2017-08         8.31    NaN  NaN  \n",
       "2017-09          NaN    NaN  NaN  \n",
       "2017-10          NaN    NaN  NaN  \n",
       "2017-11          NaN    NaN  NaN  \n",
       "2017-12          NaN    NaN  NaN  \n",
       "2018-01          NaN    NaN  NaN  \n",
       "2018-02          NaN    NaN  NaN  \n",
       "2018-03          NaN    NaN  NaN  \n",
       "2018-04          NaN    NaN  NaN  \n",
       "2018-05          NaN    NaN  NaN  \n",
       "2018-06          NaN    NaN  NaN  "
      ]
     },
     "metadata": {},
     "output_type": "display_data"
    }
   ],
   "source": [
    "# How many orders do customers make during a certain period of time?\n",
    "\n",
    "# Creating cohorts\n",
    "df_orders['order_month'] = df_orders['buy_ts'].dt.to_period('M')\n",
    "df_orders['cohort'] = df_orders.groupby('uid')['order_month'].transform('min')\n",
    "\n",
    "# defining periods for analysis.\n",
    "df_cohort = df_orders.groupby(['cohort', 'order_month']).agg(revenue=('revenue', 'sum'), n_orders=('uid', 'count'), n_users=('uid', 'nunique')).reset_index()\n",
    "df_cohort['ticket_medio'] = df_cohort['revenue'] / df_cohort['n_users']\n",
    "df_cohort['qtd_compras_media'] = df_cohort['n_orders'] / df_cohort['n_users']\n",
    "\n",
    "df_cohort['period_number'] = (df_cohort['order_month'] - df_cohort['cohort']).apply(attrgetter('n'))\n",
    "\n",
    "cohort_pivot = df_cohort.pivot_table(index='cohort', columns='period_number', values='ticket_medio')\n",
    "display(cohort_pivot.round(2))"
   ]
  },
  {
   "cell_type": "code",
   "execution_count": 104,
   "metadata": {
    "scrolled": true
   },
   "outputs": [
    {
     "data": {
      "image/png": "[encoded data removed]",
      "text/plain": [
       "<Figure size 1200x800 with 2 Axes>"
      ]
     },
     "metadata": {},
     "output_type": "display_data"
    }
   ],
   "source": [
    "# Displaying in the heatmap\n",
    "plt.figure(figsize=(12,8))\n",
    "sns.heatmap(cohort_pivot, annot=True, mask=cohort_pivot.isnull(), fmt='.2f', cmap='RdYlGn');"
   ]
  },
  {
   "cell_type": "markdown",
   "metadata": {},
   "source": [
    "Note: The data shows us that customers tend to place orders more frequently in the first months after their initial order, with a decrease in the number of orders over time.\n",
    "\n",
    "Note: We need strategies to maintain customer engagement and encourage repeat purchases."
   ]
  },
  {
   "cell_type": "code",
   "execution_count": 105,
   "metadata": {
    "scrolled": false
   },
   "outputs": [
    {
     "data": {
      "text/html": [
       "<div>\n",
       "<style scoped>\n",
       "    .dataframe tbody tr th:only-of-type {\n",
       "        vertical-align: middle;\n",
       "    }\n",
       "\n",
       "    .dataframe tbody tr th {\n",
       "        vertical-align: top;\n",
       "    }\n",
       "\n",
       "    .dataframe thead th {\n",
       "        text-align: right;\n",
       "    }\n",
       "</style>\n",
       "<table border=\"1\" class=\"dataframe\">\n",
       "  <thead>\n",
       "    <tr style=\"text-align: right;\">\n",
       "      <th>period_number</th>\n",
       "      <th>0</th>\n",
       "      <th>1</th>\n",
       "      <th>2</th>\n",
       "      <th>3</th>\n",
       "      <th>4</th>\n",
       "      <th>5</th>\n",
       "      <th>6</th>\n",
       "      <th>7</th>\n",
       "      <th>8</th>\n",
       "      <th>9</th>\n",
       "      <th>10</th>\n",
       "      <th>11</th>\n",
       "    </tr>\n",
       "    <tr>\n",
       "      <th>cohort</th>\n",
       "      <th></th>\n",
       "      <th></th>\n",
       "      <th></th>\n",
       "      <th></th>\n",
       "      <th></th>\n",
       "      <th></th>\n",
       "      <th></th>\n",
       "      <th></th>\n",
       "      <th></th>\n",
       "      <th></th>\n",
       "      <th></th>\n",
       "      <th></th>\n",
       "    </tr>\n",
       "  </thead>\n",
       "  <tbody>\n",
       "    <tr>\n",
       "      <th>2017-06</th>\n",
       "      <td>1.16</td>\n",
       "      <td>2.90</td>\n",
       "      <td>3.48</td>\n",
       "      <td>4.19</td>\n",
       "      <td>3.32</td>\n",
       "      <td>3.25</td>\n",
       "      <td>4.45</td>\n",
       "      <td>3.70</td>\n",
       "      <td>3.66</td>\n",
       "      <td>3.40</td>\n",
       "      <td>2.13</td>\n",
       "      <td>1.62</td>\n",
       "    </tr>\n",
       "    <tr>\n",
       "      <th>2017-07</th>\n",
       "      <td>1.14</td>\n",
       "      <td>1.92</td>\n",
       "      <td>2.11</td>\n",
       "      <td>1.62</td>\n",
       "      <td>1.47</td>\n",
       "      <td>2.16</td>\n",
       "      <td>1.69</td>\n",
       "      <td>1.28</td>\n",
       "      <td>1.38</td>\n",
       "      <td>1.09</td>\n",
       "      <td>2.04</td>\n",
       "      <td>NaN</td>\n",
       "    </tr>\n",
       "    <tr>\n",
       "      <th>2017-08</th>\n",
       "      <td>1.12</td>\n",
       "      <td>1.86</td>\n",
       "      <td>1.89</td>\n",
       "      <td>1.84</td>\n",
       "      <td>2.12</td>\n",
       "      <td>1.94</td>\n",
       "      <td>1.63</td>\n",
       "      <td>1.77</td>\n",
       "      <td>2.42</td>\n",
       "      <td>1.48</td>\n",
       "      <td>NaN</td>\n",
       "      <td>NaN</td>\n",
       "    </tr>\n",
       "    <tr>\n",
       "      <th>2017-09</th>\n",
       "      <td>1.14</td>\n",
       "      <td>1.68</td>\n",
       "      <td>1.61</td>\n",
       "      <td>2.22</td>\n",
       "      <td>1.29</td>\n",
       "      <td>1.70</td>\n",
       "      <td>1.64</td>\n",
       "      <td>1.51</td>\n",
       "      <td>1.42</td>\n",
       "      <td>NaN</td>\n",
       "      <td>NaN</td>\n",
       "      <td>NaN</td>\n",
       "    </tr>\n",
       "    <tr>\n",
       "      <th>2017-10</th>\n",
       "      <td>1.14</td>\n",
       "      <td>1.52</td>\n",
       "      <td>1.32</td>\n",
       "      <td>1.33</td>\n",
       "      <td>1.39</td>\n",
       "      <td>1.43</td>\n",
       "      <td>1.54</td>\n",
       "      <td>1.87</td>\n",
       "      <td>NaN</td>\n",
       "      <td>NaN</td>\n",
       "      <td>NaN</td>\n",
       "      <td>NaN</td>\n",
       "    </tr>\n",
       "    <tr>\n",
       "      <th>2017-11</th>\n",
       "      <td>1.18</td>\n",
       "      <td>1.79</td>\n",
       "      <td>1.52</td>\n",
       "      <td>1.99</td>\n",
       "      <td>1.68</td>\n",
       "      <td>1.23</td>\n",
       "      <td>1.65</td>\n",
       "      <td>NaN</td>\n",
       "      <td>NaN</td>\n",
       "      <td>NaN</td>\n",
       "      <td>NaN</td>\n",
       "      <td>NaN</td>\n",
       "    </tr>\n",
       "    <tr>\n",
       "      <th>2017-12</th>\n",
       "      <td>1.15</td>\n",
       "      <td>1.85</td>\n",
       "      <td>1.96</td>\n",
       "      <td>1.85</td>\n",
       "      <td>1.72</td>\n",
       "      <td>1.67</td>\n",
       "      <td>NaN</td>\n",
       "      <td>NaN</td>\n",
       "      <td>NaN</td>\n",
       "      <td>NaN</td>\n",
       "      <td>NaN</td>\n",
       "      <td>NaN</td>\n",
       "    </tr>\n",
       "    <tr>\n",
       "      <th>2018-01</th>\n",
       "      <td>1.12</td>\n",
       "      <td>1.96</td>\n",
       "      <td>1.92</td>\n",
       "      <td>1.49</td>\n",
       "      <td>1.73</td>\n",
       "      <td>NaN</td>\n",
       "      <td>NaN</td>\n",
       "      <td>NaN</td>\n",
       "      <td>NaN</td>\n",
       "      <td>NaN</td>\n",
       "      <td>NaN</td>\n",
       "      <td>NaN</td>\n",
       "    </tr>\n",
       "    <tr>\n",
       "      <th>2018-02</th>\n",
       "      <td>1.12</td>\n",
       "      <td>1.88</td>\n",
       "      <td>1.43</td>\n",
       "      <td>1.79</td>\n",
       "      <td>NaN</td>\n",
       "      <td>NaN</td>\n",
       "      <td>NaN</td>\n",
       "      <td>NaN</td>\n",
       "      <td>NaN</td>\n",
       "      <td>NaN</td>\n",
       "      <td>NaN</td>\n",
       "      <td>NaN</td>\n",
       "    </tr>\n",
       "    <tr>\n",
       "      <th>2018-03</th>\n",
       "      <td>1.17</td>\n",
       "      <td>1.98</td>\n",
       "      <td>3.03</td>\n",
       "      <td>NaN</td>\n",
       "      <td>NaN</td>\n",
       "      <td>NaN</td>\n",
       "      <td>NaN</td>\n",
       "      <td>NaN</td>\n",
       "      <td>NaN</td>\n",
       "      <td>NaN</td>\n",
       "      <td>NaN</td>\n",
       "      <td>NaN</td>\n",
       "    </tr>\n",
       "    <tr>\n",
       "      <th>2018-04</th>\n",
       "      <td>1.10</td>\n",
       "      <td>2.83</td>\n",
       "      <td>NaN</td>\n",
       "      <td>NaN</td>\n",
       "      <td>NaN</td>\n",
       "      <td>NaN</td>\n",
       "      <td>NaN</td>\n",
       "      <td>NaN</td>\n",
       "      <td>NaN</td>\n",
       "      <td>NaN</td>\n",
       "      <td>NaN</td>\n",
       "      <td>NaN</td>\n",
       "    </tr>\n",
       "    <tr>\n",
       "      <th>2018-05</th>\n",
       "      <td>1.09</td>\n",
       "      <td>NaN</td>\n",
       "      <td>NaN</td>\n",
       "      <td>NaN</td>\n",
       "      <td>NaN</td>\n",
       "      <td>NaN</td>\n",
       "      <td>NaN</td>\n",
       "      <td>NaN</td>\n",
       "      <td>NaN</td>\n",
       "      <td>NaN</td>\n",
       "      <td>NaN</td>\n",
       "      <td>NaN</td>\n",
       "    </tr>\n",
       "    <tr>\n",
       "      <th>2018-06</th>\n",
       "      <td>1.00</td>\n",
       "      <td>NaN</td>\n",
       "      <td>NaN</td>\n",
       "      <td>NaN</td>\n",
       "      <td>NaN</td>\n",
       "      <td>NaN</td>\n",
       "      <td>NaN</td>\n",
       "      <td>NaN</td>\n",
       "      <td>NaN</td>\n",
       "      <td>NaN</td>\n",
       "      <td>NaN</td>\n",
       "      <td>NaN</td>\n",
       "    </tr>\n",
       "  </tbody>\n",
       "</table>\n",
       "</div>"
      ],
      "text/plain": [
       "period_number    0     1     2     3     4     5     6     7     8     9   \\\n",
       "cohort                                                                      \n",
       "2017-06        1.16  2.90  3.48  4.19  3.32  3.25  4.45  3.70  3.66  3.40   \n",
       "2017-07        1.14  1.92  2.11  1.62  1.47  2.16  1.69  1.28  1.38  1.09   \n",
       "2017-08        1.12  1.86  1.89  1.84  2.12  1.94  1.63  1.77  2.42  1.48   \n",
       "2017-09        1.14  1.68  1.61  2.22  1.29  1.70  1.64  1.51  1.42   NaN   \n",
       "2017-10        1.14  1.52  1.32  1.33  1.39  1.43  1.54  1.87   NaN   NaN   \n",
       "2017-11        1.18  1.79  1.52  1.99  1.68  1.23  1.65   NaN   NaN   NaN   \n",
       "2017-12        1.15  1.85  1.96  1.85  1.72  1.67   NaN   NaN   NaN   NaN   \n",
       "2018-01        1.12  1.96  1.92  1.49  1.73   NaN   NaN   NaN   NaN   NaN   \n",
       "2018-02        1.12  1.88  1.43  1.79   NaN   NaN   NaN   NaN   NaN   NaN   \n",
       "2018-03        1.17  1.98  3.03   NaN   NaN   NaN   NaN   NaN   NaN   NaN   \n",
       "2018-04        1.10  2.83   NaN   NaN   NaN   NaN   NaN   NaN   NaN   NaN   \n",
       "2018-05        1.09   NaN   NaN   NaN   NaN   NaN   NaN   NaN   NaN   NaN   \n",
       "2018-06        1.00   NaN   NaN   NaN   NaN   NaN   NaN   NaN   NaN   NaN   \n",
       "\n",
       "period_number    10    11  \n",
       "cohort                     \n",
       "2017-06        2.13  1.62  \n",
       "2017-07        2.04   NaN  \n",
       "2017-08         NaN   NaN  \n",
       "2017-09         NaN   NaN  \n",
       "2017-10         NaN   NaN  \n",
       "2017-11         NaN   NaN  \n",
       "2017-12         NaN   NaN  \n",
       "2018-01         NaN   NaN  \n",
       "2018-02         NaN   NaN  \n",
       "2018-03         NaN   NaN  \n",
       "2018-04         NaN   NaN  \n",
       "2018-05         NaN   NaN  \n",
       "2018-06         NaN   NaN  "
      ]
     },
     "metadata": {},
     "output_type": "display_data"
    },
    {
     "data": {
      "image/png": "[encoded data removed]",
      "text/plain": [
       "<Figure size 1200x800 with 2 Axes>"
      ]
     },
     "metadata": {},
     "output_type": "display_data"
    }
   ],
   "source": [
    "# What is the average purchase volume??\n",
    "\n",
    "# Displaying the average purchase volume\n",
    "cohort_pivot = df_cohort.pivot_table(index='cohort', columns='period_number', values='qtd_compras_media')\n",
    "display(cohort_pivot.round(2))\n",
    "# Displaying in the heatmap\n",
    "plt.figure(figsize=(12,8))\n",
    "sns.heatmap(cohort_pivot, annot=True, mask=cohort_pivot.isnull(), fmt='.2f', cmap='RdYlGn');    "
   ]
  },
  {
   "cell_type": "markdown",
   "metadata": {},
   "source": [
    "Note: We obtained an average of 1.82 purchases per user."
   ]
  },
  {
   "cell_type": "code",
   "execution_count": 106,
   "metadata": {
    "scrolled": false
   },
   "outputs": [
    {
     "data": {
      "text/html": [
       "<div>\n",
       "<style scoped>\n",
       "    .dataframe tbody tr th:only-of-type {\n",
       "        vertical-align: middle;\n",
       "    }\n",
       "\n",
       "    .dataframe tbody tr th {\n",
       "        vertical-align: top;\n",
       "    }\n",
       "\n",
       "    .dataframe thead th {\n",
       "        text-align: right;\n",
       "    }\n",
       "</style>\n",
       "<table border=\"1\" class=\"dataframe\">\n",
       "  <thead>\n",
       "    <tr style=\"text-align: right;\">\n",
       "      <th>period_number</th>\n",
       "      <th>0</th>\n",
       "      <th>1</th>\n",
       "      <th>2</th>\n",
       "      <th>3</th>\n",
       "      <th>4</th>\n",
       "      <th>5</th>\n",
       "      <th>6</th>\n",
       "      <th>7</th>\n",
       "      <th>8</th>\n",
       "      <th>9</th>\n",
       "      <th>10</th>\n",
       "      <th>11</th>\n",
       "    </tr>\n",
       "    <tr>\n",
       "      <th>cohort</th>\n",
       "      <th></th>\n",
       "      <th></th>\n",
       "      <th></th>\n",
       "      <th></th>\n",
       "      <th></th>\n",
       "      <th></th>\n",
       "      <th></th>\n",
       "      <th></th>\n",
       "      <th></th>\n",
       "      <th></th>\n",
       "      <th></th>\n",
       "      <th></th>\n",
       "    </tr>\n",
       "  </thead>\n",
       "  <tbody>\n",
       "    <tr>\n",
       "      <th>2017-06</th>\n",
       "      <td>4.72</td>\n",
       "      <td>16.10</td>\n",
       "      <td>17.71</td>\n",
       "      <td>35.76</td>\n",
       "      <td>23.51</td>\n",
       "      <td>22.21</td>\n",
       "      <td>31.01</td>\n",
       "      <td>25.03</td>\n",
       "      <td>19.30</td>\n",
       "      <td>27.23</td>\n",
       "      <td>25.68</td>\n",
       "      <td>9.8</td>\n",
       "    </tr>\n",
       "    <tr>\n",
       "      <th>2017-07</th>\n",
       "      <td>6.01</td>\n",
       "      <td>12.40</td>\n",
       "      <td>21.04</td>\n",
       "      <td>10.79</td>\n",
       "      <td>6.94</td>\n",
       "      <td>7.90</td>\n",
       "      <td>6.42</td>\n",
       "      <td>6.99</td>\n",
       "      <td>7.38</td>\n",
       "      <td>12.86</td>\n",
       "      <td>11.51</td>\n",
       "      <td>NaN</td>\n",
       "    </tr>\n",
       "    <tr>\n",
       "      <th>2017-08</th>\n",
       "      <td>5.28</td>\n",
       "      <td>11.15</td>\n",
       "      <td>11.85</td>\n",
       "      <td>12.18</td>\n",
       "      <td>16.92</td>\n",
       "      <td>12.14</td>\n",
       "      <td>9.62</td>\n",
       "      <td>12.61</td>\n",
       "      <td>21.07</td>\n",
       "      <td>8.31</td>\n",
       "      <td>NaN</td>\n",
       "      <td>NaN</td>\n",
       "    </tr>\n",
       "    <tr>\n",
       "      <th>2017-09</th>\n",
       "      <td>5.64</td>\n",
       "      <td>22.19</td>\n",
       "      <td>13.45</td>\n",
       "      <td>138.67</td>\n",
       "      <td>19.88</td>\n",
       "      <td>26.10</td>\n",
       "      <td>27.44</td>\n",
       "      <td>16.96</td>\n",
       "      <td>11.04</td>\n",
       "      <td>NaN</td>\n",
       "      <td>NaN</td>\n",
       "      <td>NaN</td>\n",
       "    </tr>\n",
       "    <tr>\n",
       "      <th>2017-10</th>\n",
       "      <td>5.00</td>\n",
       "      <td>11.29</td>\n",
       "      <td>6.75</td>\n",
       "      <td>7.41</td>\n",
       "      <td>7.07</td>\n",
       "      <td>7.26</td>\n",
       "      <td>6.57</td>\n",
       "      <td>7.48</td>\n",
       "      <td>NaN</td>\n",
       "      <td>NaN</td>\n",
       "      <td>NaN</td>\n",
       "      <td>NaN</td>\n",
       "    </tr>\n",
       "    <tr>\n",
       "      <th>2017-11</th>\n",
       "      <td>5.15</td>\n",
       "      <td>7.34</td>\n",
       "      <td>6.79</td>\n",
       "      <td>12.51</td>\n",
       "      <td>7.46</td>\n",
       "      <td>4.58</td>\n",
       "      <td>7.56</td>\n",
       "      <td>NaN</td>\n",
       "      <td>NaN</td>\n",
       "      <td>NaN</td>\n",
       "      <td>NaN</td>\n",
       "      <td>NaN</td>\n",
       "    </tr>\n",
       "    <tr>\n",
       "      <th>2017-12</th>\n",
       "      <td>4.74</td>\n",
       "      <td>7.82</td>\n",
       "      <td>39.37</td>\n",
       "      <td>48.14</td>\n",
       "      <td>27.43</td>\n",
       "      <td>23.52</td>\n",
       "      <td>NaN</td>\n",
       "      <td>NaN</td>\n",
       "      <td>NaN</td>\n",
       "      <td>NaN</td>\n",
       "      <td>NaN</td>\n",
       "      <td>NaN</td>\n",
       "    </tr>\n",
       "    <tr>\n",
       "      <th>2018-01</th>\n",
       "      <td>4.14</td>\n",
       "      <td>8.72</td>\n",
       "      <td>12.37</td>\n",
       "      <td>11.20</td>\n",
       "      <td>4.70</td>\n",
       "      <td>NaN</td>\n",
       "      <td>NaN</td>\n",
       "      <td>NaN</td>\n",
       "      <td>NaN</td>\n",
       "      <td>NaN</td>\n",
       "      <td>NaN</td>\n",
       "      <td>NaN</td>\n",
       "    </tr>\n",
       "    <tr>\n",
       "      <th>2018-02</th>\n",
       "      <td>4.16</td>\n",
       "      <td>8.61</td>\n",
       "      <td>4.94</td>\n",
       "      <td>6.94</td>\n",
       "      <td>NaN</td>\n",
       "      <td>NaN</td>\n",
       "      <td>NaN</td>\n",
       "      <td>NaN</td>\n",
       "      <td>NaN</td>\n",
       "      <td>NaN</td>\n",
       "      <td>NaN</td>\n",
       "      <td>NaN</td>\n",
       "    </tr>\n",
       "    <tr>\n",
       "      <th>2018-03</th>\n",
       "      <td>4.84</td>\n",
       "      <td>11.81</td>\n",
       "      <td>19.22</td>\n",
       "      <td>NaN</td>\n",
       "      <td>NaN</td>\n",
       "      <td>NaN</td>\n",
       "      <td>NaN</td>\n",
       "      <td>NaN</td>\n",
       "      <td>NaN</td>\n",
       "      <td>NaN</td>\n",
       "      <td>NaN</td>\n",
       "      <td>NaN</td>\n",
       "    </tr>\n",
       "    <tr>\n",
       "      <th>2018-04</th>\n",
       "      <td>4.66</td>\n",
       "      <td>17.54</td>\n",
       "      <td>NaN</td>\n",
       "      <td>NaN</td>\n",
       "      <td>NaN</td>\n",
       "      <td>NaN</td>\n",
       "      <td>NaN</td>\n",
       "      <td>NaN</td>\n",
       "      <td>NaN</td>\n",
       "      <td>NaN</td>\n",
       "      <td>NaN</td>\n",
       "      <td>NaN</td>\n",
       "    </tr>\n",
       "    <tr>\n",
       "      <th>2018-05</th>\n",
       "      <td>4.66</td>\n",
       "      <td>NaN</td>\n",
       "      <td>NaN</td>\n",
       "      <td>NaN</td>\n",
       "      <td>NaN</td>\n",
       "      <td>NaN</td>\n",
       "      <td>NaN</td>\n",
       "      <td>NaN</td>\n",
       "      <td>NaN</td>\n",
       "      <td>NaN</td>\n",
       "      <td>NaN</td>\n",
       "      <td>NaN</td>\n",
       "    </tr>\n",
       "    <tr>\n",
       "      <th>2018-06</th>\n",
       "      <td>3.42</td>\n",
       "      <td>NaN</td>\n",
       "      <td>NaN</td>\n",
       "      <td>NaN</td>\n",
       "      <td>NaN</td>\n",
       "      <td>NaN</td>\n",
       "      <td>NaN</td>\n",
       "      <td>NaN</td>\n",
       "      <td>NaN</td>\n",
       "      <td>NaN</td>\n",
       "      <td>NaN</td>\n",
       "      <td>NaN</td>\n",
       "    </tr>\n",
       "  </tbody>\n",
       "</table>\n",
       "</div>"
      ],
      "text/plain": [
       "period_number    0      1      2       3      4      5      6      7      8   \\\n",
       "cohort                                                                         \n",
       "2017-06        4.72  16.10  17.71   35.76  23.51  22.21  31.01  25.03  19.30   \n",
       "2017-07        6.01  12.40  21.04   10.79   6.94   7.90   6.42   6.99   7.38   \n",
       "2017-08        5.28  11.15  11.85   12.18  16.92  12.14   9.62  12.61  21.07   \n",
       "2017-09        5.64  22.19  13.45  138.67  19.88  26.10  27.44  16.96  11.04   \n",
       "2017-10        5.00  11.29   6.75    7.41   7.07   7.26   6.57   7.48    NaN   \n",
       "2017-11        5.15   7.34   6.79   12.51   7.46   4.58   7.56    NaN    NaN   \n",
       "2017-12        4.74   7.82  39.37   48.14  27.43  23.52    NaN    NaN    NaN   \n",
       "2018-01        4.14   8.72  12.37   11.20   4.70    NaN    NaN    NaN    NaN   \n",
       "2018-02        4.16   8.61   4.94    6.94    NaN    NaN    NaN    NaN    NaN   \n",
       "2018-03        4.84  11.81  19.22     NaN    NaN    NaN    NaN    NaN    NaN   \n",
       "2018-04        4.66  17.54    NaN     NaN    NaN    NaN    NaN    NaN    NaN   \n",
       "2018-05        4.66    NaN    NaN     NaN    NaN    NaN    NaN    NaN    NaN   \n",
       "2018-06        3.42    NaN    NaN     NaN    NaN    NaN    NaN    NaN    NaN   \n",
       "\n",
       "period_number     9      10   11  \n",
       "cohort                            \n",
       "2017-06        27.23  25.68  9.8  \n",
       "2017-07        12.86  11.51  NaN  \n",
       "2017-08         8.31    NaN  NaN  \n",
       "2017-09          NaN    NaN  NaN  \n",
       "2017-10          NaN    NaN  NaN  \n",
       "2017-11          NaN    NaN  NaN  \n",
       "2017-12          NaN    NaN  NaN  \n",
       "2018-01          NaN    NaN  NaN  \n",
       "2018-02          NaN    NaN  NaN  \n",
       "2018-03          NaN    NaN  NaN  \n",
       "2018-04          NaN    NaN  NaN  \n",
       "2018-05          NaN    NaN  NaN  \n",
       "2018-06          NaN    NaN  NaN  "
      ]
     },
     "metadata": {},
     "output_type": "display_data"
    },
    {
     "data": {
      "image/png": "[encoded data removed]",
      "text/plain": [
       "<Figure size 1200x800 with 2 Axes>"
      ]
     },
     "metadata": {},
     "output_type": "display_data"
    }
   ],
   "source": [
    "# How much money do they bring to the company (LTV)?\n",
    "# df_cohort(['LTV'] lifetime value) = (revenue - costs)\n",
    "\n",
    "df_cohort['period_number'] = (df_cohort['order_month'] - df_cohort['cohort']).apply(attrgetter('n'))\n",
    "\n",
    "cohort_pivot = df_cohort.pivot_table(index='cohort', columns='period_number', values='ticket_medio')\n",
    "display(cohort_pivot.round(2))\n",
    "\n",
    "plt.figure(figsize=(12,8))\n",
    "sns.heatmap(cohort_pivot, annot=True, mask=cohort_pivot.isnull(), fmt='.2f', cmap='RdYlGn');\n"
   ]
  },
  {
   "cell_type": "markdown",
   "metadata": {},
   "source": [
    "Note: The June 2017 cohort brought a total of 258.06 monetary units to the company over time (periods).\n",
    "\n",
    "Note: The September 2017 cohort was the most profitable, with an LTV of 281.37 monetary units.\n",
    "\n",
    "Note: The most recent cohorts (2018) have lower values, but this is due to the shorter observation period.\n",
    "\n",
    "\n",
    "\n",
    "\n",
    "\n"
   ]
  },
  {
   "cell_type": "markdown",
   "metadata": {},
   "source": [
    "## Marketing"
   ]
  },
  {
   "cell_type": "code",
   "execution_count": null,
   "metadata": {},
   "outputs": [],
   "source": [
    "# How much money was spent? In total/by source/over time\n",
    "\n",
    "# Calculating the total spent\n",
    "df_total_costs = df_costs['costs'].sum()\n",
    "\n",
    "# Calculating the spending by source\n",
    "costs_for_origins = df_costs.groupby('source_id')['costs'].sum()\n",
    "\n",
    "# Calculating the spending over time (by month)\n",
    "df_costs['month'] = df_costs['dt'].dt.to_period('M')\n",
    "costs_for_month = df_costs.groupby('month')['costs'].sum()"
   ]
  },
  {
   "cell_type": "code",
   "execution_count": null,
   "metadata": {},
   "outputs": [
    {
     "data": {
      "text/plain": [
       "329131.62"
      ]
     },
     "execution_count": 93,
     "metadata": {},
     "output_type": "execute_result"
    }
   ],
   "source": [
    "# Total spent\n",
    "df_total_costs"
   ]
  },
  {
   "cell_type": "code",
   "execution_count": null,
   "metadata": {
    "scrolled": true
   },
   "outputs": [
    {
     "data": {
      "text/plain": [
       "source_id\n",
       "1      20833.27\n",
       "2      42806.04\n",
       "3     141321.63\n",
       "4      61073.60\n",
       "5      51757.10\n",
       "9       5517.49\n",
       "10      5822.49\n",
       "Name: costs, dtype: float64"
      ]
     },
     "execution_count": 94,
     "metadata": {},
     "output_type": "execute_result"
    }
   ],
   "source": [
    "# Spending by source\n",
    "costs_for_origins"
   ]
  },
  {
   "cell_type": "code",
   "execution_count": null,
   "metadata": {},
   "outputs": [
    {
     "data": {
      "text/plain": [
       "month\n",
       "2017-06    18015.00\n",
       "2017-07    18240.59\n",
       "2017-08    14790.54\n",
       "2017-09    24368.91\n",
       "2017-10    36322.88\n",
       "2017-11    37907.88\n",
       "2017-12    38315.35\n",
       "2018-01    33518.52\n",
       "2018-02    32723.03\n",
       "2018-03    30415.27\n",
       "2018-04    22289.38\n",
       "2018-05    22224.27\n",
       "Freq: M, Name: costs, dtype: float64"
      ]
     },
     "execution_count": 95,
     "metadata": {},
     "output_type": "execute_result"
    }
   ],
   "source": [
    "# Spending over time (by month)\n",
    "costs_for_month"
   ]
  },
  {
   "cell_type": "code",
   "execution_count": 107,
   "metadata": {},
   "outputs": [
    {
     "data": {
      "text/plain": [
       "source_id\n",
       "1     0.610570\n",
       "2     0.898796\n",
       "3     1.650761\n",
       "4     0.599972\n",
       "5     0.773591\n",
       "6          NaN\n",
       "7          NaN\n",
       "9     0.415568\n",
       "10    0.580797\n",
       "dtype: float64"
      ]
     },
     "execution_count": 107,
     "metadata": {},
     "output_type": "execute_result"
    }
   ],
   "source": [
    "# How much did it cost to acquire customers for each source?\n",
    "\n",
    "# Calculating the number of customers acquired from each source\n",
    "clients_per_origins = df_logs['source_id'].value_counts()\n",
    "\n",
    "# Calculating the customer acquisition cost for each source\n",
    "cost_client_per_origins = costs_for_origins / clients_per_origins\n",
    "cost_client_per_origins"
   ]
  },
  {
   "cell_type": "code",
   "execution_count": null,
   "metadata": {
    "scrolled": true
   },
   "outputs": [
    {
     "data": {
      "image/png": "[encoded data removed]",
      "text/plain": [
       "<Figure size 1000x600 with 1 Axes>"
      ]
     },
     "metadata": {},
     "output_type": "display_data"
    }
   ],
   "source": [
    "# Plotting a graph\n",
    "plt.figure(figsize=(10, 6))\n",
    "cost_client_per_origins.plot(kind='bar', color='skyblue')\n",
    "plt.title('Custo de Aquisição por Cliente por Origem')\n",
    "plt.xlabel('Origem')\n",
    "plt.ylabel('Custo de Aquisição por Cliente')\n",
    "plt.xticks(rotation=0)\n",
    "plt.show()"
   ]
  },
  {
   "cell_type": "code",
   "execution_count": null,
   "metadata": {},
   "outputs": [
    {
     "data": {
      "text/plain": [
       "252057.19999999998"
      ]
     },
     "execution_count": 98,
     "metadata": {},
     "output_type": "execute_result"
    }
   ],
   "source": [
    "# Was the investment worth it? (ROI)\n",
    "\n",
    "# Calculating the total revenue generated by customers\n",
    "total_revenue = df_orders['revenue'].sum()\n",
    "total_revenue"
   ]
  },
  {
   "cell_type": "code",
   "execution_count": null,
   "metadata": {},
   "outputs": [
    {
     "data": {
      "text/plain": [
       "-23.41750695360112"
      ]
     },
     "execution_count": 99,
     "metadata": {},
     "output_type": "execute_result"
    }
   ],
   "source": [
    "# Calculating the ROI\n",
    "roi = ((total_revenue - df_total_costs) / df_total_costs) * 100\n",
    "roi"
   ]
  },
  {
   "cell_type": "markdown",
   "metadata": {},
   "source": [
    "Note: We obtained a negative value of 23.4%, which means that the investments resulted in losses."
   ]
  },
  {
   "cell_type": "markdown",
   "metadata": {},
   "source": [
    "# Step 3. Write a conclusion: recommend to marketing specialists how much money and where it would be better to invest.\n",
    "\n",
    "## Recommendation to marketing specialists (conclusion)\n",
    "* Implementing strategies to increase the LTV of acquired customers can help improve overall profitability.\n",
    "* I urgently recommend that marketing specialists adjust the strategy, focusing on more efficient sources and implementing continuous monitoring to ensure that investments result in a positive ROI."
   ]
  },
  {
   "cell_type": "markdown",
   "metadata": {},
   "source": [
    "# Discovering the number of users on each platform (conclusion)\n",
    "\n",
    "## Which sources/platforms would you recommend?"
   ]
  },
  {
   "cell_type": "code",
   "execution_count": 100,
   "metadata": {},
   "outputs": [
    {
     "data": {
      "text/plain": [
       "96833"
      ]
     },
     "execution_count": 100,
     "metadata": {},
     "output_type": "execute_result"
    }
   ],
   "source": [
    "df_platforms_t = df_logs['device'].value_counts().get('touch', 0)\n",
    "df_platforms_t"
   ]
  },
  {
   "cell_type": "code",
   "execution_count": 101,
   "metadata": {},
   "outputs": [
    {
     "data": {
      "text/plain": [
       "262567"
      ]
     },
     "execution_count": 101,
     "metadata": {},
     "output_type": "execute_result"
    }
   ],
   "source": [
    "df_platforms = df_logs['device'].value_counts().get('desktop', 0)\n",
    "df_platforms"
   ]
  },
  {
   "cell_type": "markdown",
   "metadata": {},
   "source": [
    "Note: We have more desktop users than mobile users, so our focus will be on desktop platforms.\n",
    "\n",
    "Note: With the difference in customers on desktop, our marketing retention investment focus should be on the platform where we have more customers, but we need to find a way to keep those customers active."
   ]
  },
  {
   "cell_type": "markdown",
   "metadata": {},
   "source": [
    "# Justify your choice: what metrics did you focus on? Why? What conclusions did you draw from finding the metric values?\n",
    "\n",
    "Notes: \n",
    "- I used the metric (LTV) by cohort.\n",
    "\n",
    "- Why LTV (lifetime value)? It evaluates the total revenue generated by customers over time; a higher LTV indicates more valuable customers. When calculating LTV, we consider the gross profit of a consumer per period.\n",
    "\n",
    "- The analysis of LTV (lifetime value) for each cohort over the periods shows that the June 2017 cohort generated an LTV of 258.06 monetary units, while the other cohorts showed significant variations in LTV over time."
   ]
  },
  {
   "cell_type": "markdown",
   "metadata": {},
   "source": [
    "# Conclusion\n",
    "Knowing that the ROI was negative with a rate of -23%, this helped us identify that the marketing investments did not generate enough return to cover the costs. Given this, it is essential to review and adjust the marketing strategy to improve efficiency and profitability."
   ]
  }
 ],
 "metadata": {
  "ExecuteTimeLog": [
   {
    "duration": 493,
    "start_time": "2024-05-28T23:04:15.714Z"
   },
   {
    "duration": 4,
    "start_time": "2024-05-28T23:04:30.098Z"
   },
   {
    "duration": 1096,
    "start_time": "2024-05-28T23:05:01.064Z"
   },
   {
    "duration": 687,
    "start_time": "2024-05-28T23:05:18.343Z"
   },
   {
    "duration": 95,
    "start_time": "2024-05-28T23:05:47.122Z"
   },
   {
    "duration": 21,
    "start_time": "2024-05-28T23:06:12.672Z"
   },
   {
    "duration": 4,
    "start_time": "2024-05-28T23:08:59.586Z"
   },
   {
    "duration": 429,
    "start_time": "2024-05-28T23:09:33.447Z"
   },
   {
    "duration": 3,
    "start_time": "2024-05-28T23:11:21.901Z"
   },
   {
    "duration": 476,
    "start_time": "2024-05-28T23:12:54.000Z"
   },
   {
    "duration": 654,
    "start_time": "2024-05-28T23:12:54.480Z"
   },
   {
    "duration": 75,
    "start_time": "2024-05-28T23:12:55.137Z"
   },
   {
    "duration": 23,
    "start_time": "2024-05-28T23:12:55.215Z"
   },
   {
    "duration": 471,
    "start_time": "2024-05-28T23:14:05.977Z"
   },
   {
    "duration": 618,
    "start_time": "2024-05-28T23:14:06.453Z"
   },
   {
    "duration": 54,
    "start_time": "2024-05-28T23:14:07.074Z"
   },
   {
    "duration": 13,
    "start_time": "2024-05-28T23:14:07.130Z"
   },
   {
    "duration": 62,
    "start_time": "2024-05-28T23:15:46.092Z"
   },
   {
    "duration": 380,
    "start_time": "2024-05-28T23:16:24.544Z"
   },
   {
    "duration": 20,
    "start_time": "2024-05-28T23:16:34.269Z"
   },
   {
    "duration": 31,
    "start_time": "2024-05-28T23:18:29.304Z"
   },
   {
    "duration": 453,
    "start_time": "2024-05-28T23:22:50.623Z"
   },
   {
    "duration": 914,
    "start_time": "2024-05-28T23:22:51.079Z"
   },
   {
    "duration": 98,
    "start_time": "2024-05-28T23:22:51.996Z"
   },
   {
    "duration": 17,
    "start_time": "2024-05-28T23:22:52.096Z"
   },
   {
    "duration": 89,
    "start_time": "2024-05-28T23:22:52.119Z"
   },
   {
    "duration": 26,
    "start_time": "2024-05-28T23:22:52.212Z"
   },
   {
    "duration": 163,
    "start_time": "2024-05-28T23:22:52.241Z"
   },
   {
    "duration": 492,
    "start_time": "2024-05-28T23:23:39.196Z"
   },
   {
    "duration": 734,
    "start_time": "2024-05-28T23:23:39.692Z"
   },
   {
    "duration": 57,
    "start_time": "2024-05-28T23:23:40.430Z"
   },
   {
    "duration": 46,
    "start_time": "2024-05-28T23:23:40.491Z"
   },
   {
    "duration": 106,
    "start_time": "2024-05-28T23:23:40.540Z"
   },
   {
    "duration": 20,
    "start_time": "2024-05-28T23:23:40.649Z"
   },
   {
    "duration": 47,
    "start_time": "2024-05-28T23:24:05.936Z"
   },
   {
    "duration": 983,
    "start_time": "2024-05-28T23:24:12.435Z"
   },
   {
    "duration": 438,
    "start_time": "2024-05-28T23:24:43.328Z"
   },
   {
    "duration": 602,
    "start_time": "2024-05-28T23:24:43.769Z"
   },
   {
    "duration": 75,
    "start_time": "2024-05-28T23:24:44.376Z"
   },
   {
    "duration": 10,
    "start_time": "2024-05-28T23:24:44.454Z"
   },
   {
    "duration": 92,
    "start_time": "2024-05-28T23:24:44.469Z"
   },
   {
    "duration": 44,
    "start_time": "2024-05-28T23:24:44.564Z"
   },
   {
    "duration": 11,
    "start_time": "2024-05-28T23:25:19.523Z"
   },
   {
    "duration": 57,
    "start_time": "2024-05-28T23:25:20.586Z"
   },
   {
    "duration": 9,
    "start_time": "2024-05-28T23:25:20.736Z"
   },
   {
    "duration": 16,
    "start_time": "2024-05-28T23:25:21.573Z"
   },
   {
    "duration": 14,
    "start_time": "2024-05-28T23:25:24.783Z"
   },
   {
    "duration": 13,
    "start_time": "2024-05-28T23:26:02.288Z"
   },
   {
    "duration": 5,
    "start_time": "2024-05-28T23:27:17.404Z"
   },
   {
    "duration": 8,
    "start_time": "2024-05-28T23:27:27.395Z"
   },
   {
    "duration": 4,
    "start_time": "2024-05-28T23:27:35.192Z"
   },
   {
    "duration": 15,
    "start_time": "2024-05-28T23:27:35.858Z"
   },
   {
    "duration": 8,
    "start_time": "2024-05-28T23:27:50.633Z"
   },
   {
    "duration": 7,
    "start_time": "2024-05-28T23:27:55.443Z"
   },
   {
    "duration": 7,
    "start_time": "2024-05-28T23:28:54.239Z"
   },
   {
    "duration": 11,
    "start_time": "2024-05-28T23:29:12.600Z"
   },
   {
    "duration": 12,
    "start_time": "2024-05-28T23:29:14.325Z"
   },
   {
    "duration": 8,
    "start_time": "2024-05-28T23:29:15.233Z"
   },
   {
    "duration": 5,
    "start_time": "2024-05-28T23:29:58.237Z"
   },
   {
    "duration": 13,
    "start_time": "2024-05-28T23:30:04.249Z"
   },
   {
    "duration": 13,
    "start_time": "2024-05-28T23:30:17.951Z"
   },
   {
    "duration": 585,
    "start_time": "2024-05-28T23:33:07.005Z"
   },
   {
    "duration": 6,
    "start_time": "2024-05-28T23:33:53.455Z"
   },
   {
    "duration": 8,
    "start_time": "2024-05-28T23:34:22.763Z"
   },
   {
    "duration": 8,
    "start_time": "2024-05-28T23:34:49.207Z"
   },
   {
    "duration": 7,
    "start_time": "2024-05-28T23:34:50.092Z"
   },
   {
    "duration": 6,
    "start_time": "2024-05-28T23:34:57.728Z"
   },
   {
    "duration": 13,
    "start_time": "2024-05-28T23:35:06.231Z"
   },
   {
    "duration": 15,
    "start_time": "2024-05-28T23:37:10.308Z"
   },
   {
    "duration": 3,
    "start_time": "2024-05-28T23:37:59.193Z"
   },
   {
    "duration": 15,
    "start_time": "2024-05-28T23:38:00.503Z"
   },
   {
    "duration": 19,
    "start_time": "2024-05-28T23:38:06.456Z"
   },
   {
    "duration": 13,
    "start_time": "2024-05-28T23:39:52.699Z"
   },
   {
    "duration": 21,
    "start_time": "2024-05-28T23:40:06.736Z"
   },
   {
    "duration": 14,
    "start_time": "2024-05-28T23:40:18.857Z"
   },
   {
    "duration": 12,
    "start_time": "2024-05-28T23:46:01.944Z"
   },
   {
    "duration": 17,
    "start_time": "2024-05-28T23:46:06.980Z"
   },
   {
    "duration": 13,
    "start_time": "2024-05-28T23:46:11.502Z"
   },
   {
    "duration": 15,
    "start_time": "2024-05-28T23:46:38.352Z"
   },
   {
    "duration": 11,
    "start_time": "2024-05-28T23:46:50.440Z"
   },
   {
    "duration": 13,
    "start_time": "2024-05-28T23:48:01.489Z"
   },
   {
    "duration": 25,
    "start_time": "2024-05-28T23:49:07.436Z"
   },
   {
    "duration": 9,
    "start_time": "2024-05-28T23:49:16.582Z"
   },
   {
    "duration": 15,
    "start_time": "2024-05-28T23:49:21.780Z"
   },
   {
    "duration": 679,
    "start_time": "2024-05-28T23:49:57.799Z"
   },
   {
    "duration": 16,
    "start_time": "2024-05-28T23:50:02.064Z"
   },
   {
    "duration": 7,
    "start_time": "2024-05-28T23:50:05.678Z"
   },
   {
    "duration": 16,
    "start_time": "2024-05-28T23:50:06.288Z"
   },
   {
    "duration": 8,
    "start_time": "2024-05-28T23:50:22.483Z"
   },
   {
    "duration": 15,
    "start_time": "2024-05-28T23:50:26.043Z"
   },
   {
    "duration": 5,
    "start_time": "2024-05-28T23:50:27.160Z"
   },
   {
    "duration": 15,
    "start_time": "2024-05-28T23:50:27.572Z"
   },
   {
    "duration": 3,
    "start_time": "2024-05-28T23:51:00.080Z"
   },
   {
    "duration": 15,
    "start_time": "2024-05-28T23:51:42.940Z"
   },
   {
    "duration": 468,
    "start_time": "2024-05-28T23:52:18.094Z"
   },
   {
    "duration": 16,
    "start_time": "2024-05-28T23:52:18.567Z"
   },
   {
    "duration": 20,
    "start_time": "2024-05-28T23:52:18.587Z"
   },
   {
    "duration": 11,
    "start_time": "2024-05-28T23:52:18.610Z"
   },
   {
    "duration": 4,
    "start_time": "2024-05-28T23:52:18.626Z"
   },
   {
    "duration": 4,
    "start_time": "2024-05-28T23:52:18.633Z"
   },
   {
    "duration": 4,
    "start_time": "2024-05-28T23:52:18.641Z"
   },
   {
    "duration": 58,
    "start_time": "2024-05-28T23:52:18.648Z"
   },
   {
    "duration": 18,
    "start_time": "2024-05-28T23:52:18.709Z"
   },
   {
    "duration": 16,
    "start_time": "2024-05-28T23:52:56.406Z"
   },
   {
    "duration": 14,
    "start_time": "2024-05-28T23:53:02.998Z"
   },
   {
    "duration": 17,
    "start_time": "2024-05-28T23:53:08.861Z"
   },
   {
    "duration": 20,
    "start_time": "2024-05-28T23:54:44.476Z"
   },
   {
    "duration": 11,
    "start_time": "2024-05-28T23:54:54.508Z"
   },
   {
    "duration": 13,
    "start_time": "2024-05-28T23:55:00.165Z"
   },
   {
    "duration": 9,
    "start_time": "2024-05-28T23:55:26.328Z"
   },
   {
    "duration": 4,
    "start_time": "2024-05-28T23:56:02.183Z"
   },
   {
    "duration": 22,
    "start_time": "2024-05-28T23:56:27.539Z"
   },
   {
    "duration": 28,
    "start_time": "2024-05-28T23:56:54.214Z"
   },
   {
    "duration": 15,
    "start_time": "2024-05-28T23:57:04.955Z"
   },
   {
    "duration": 3,
    "start_time": "2024-05-29T00:01:48.489Z"
   },
   {
    "duration": 14,
    "start_time": "2024-05-29T00:06:38.086Z"
   },
   {
    "duration": 12,
    "start_time": "2024-05-29T00:07:15.026Z"
   },
   {
    "duration": 22,
    "start_time": "2024-05-29T00:07:35.351Z"
   },
   {
    "duration": 16,
    "start_time": "2024-05-29T00:11:06.466Z"
   },
   {
    "duration": 18,
    "start_time": "2024-05-29T00:11:56.929Z"
   },
   {
    "duration": 16,
    "start_time": "2024-05-29T00:12:02.851Z"
   },
   {
    "duration": 20,
    "start_time": "2024-05-29T00:13:14.934Z"
   },
   {
    "duration": 20,
    "start_time": "2024-05-29T00:13:27.217Z"
   },
   {
    "duration": 23,
    "start_time": "2024-05-29T00:13:49.487Z"
   },
   {
    "duration": 12,
    "start_time": "2024-05-29T00:16:50.842Z"
   },
   {
    "duration": 6,
    "start_time": "2024-05-29T00:17:28.895Z"
   },
   {
    "duration": 3,
    "start_time": "2024-05-29T00:18:14.876Z"
   },
   {
    "duration": 3,
    "start_time": "2024-05-29T00:18:30.975Z"
   },
   {
    "duration": 4,
    "start_time": "2024-05-29T01:58:03.533Z"
   },
   {
    "duration": 6,
    "start_time": "2024-05-29T01:59:43.097Z"
   },
   {
    "duration": 18,
    "start_time": "2024-05-29T01:59:47.284Z"
   },
   {
    "duration": 12,
    "start_time": "2024-05-29T01:59:49.580Z"
   },
   {
    "duration": 472,
    "start_time": "2024-05-29T01:59:55.171Z"
   },
   {
    "duration": 19,
    "start_time": "2024-05-29T01:59:55.647Z"
   },
   {
    "duration": 19,
    "start_time": "2024-05-29T01:59:55.680Z"
   },
   {
    "duration": 14,
    "start_time": "2024-05-29T01:59:55.706Z"
   },
   {
    "duration": 4,
    "start_time": "2024-05-29T01:59:55.722Z"
   },
   {
    "duration": 7,
    "start_time": "2024-05-29T01:59:55.728Z"
   },
   {
    "duration": 21,
    "start_time": "2024-05-29T01:59:55.739Z"
   },
   {
    "duration": 56,
    "start_time": "2024-05-29T01:59:55.764Z"
   },
   {
    "duration": 15,
    "start_time": "2024-05-29T01:59:55.824Z"
   },
   {
    "duration": 11,
    "start_time": "2024-05-29T01:59:55.845Z"
   },
   {
    "duration": 59,
    "start_time": "2024-05-29T01:59:55.859Z"
   },
   {
    "duration": 12,
    "start_time": "2024-05-29T01:59:55.921Z"
   },
   {
    "duration": 20,
    "start_time": "2024-05-29T01:59:55.936Z"
   },
   {
    "duration": 69,
    "start_time": "2024-05-29T01:59:55.959Z"
   },
   {
    "duration": 4,
    "start_time": "2024-05-29T01:59:56.031Z"
   },
   {
    "duration": 4,
    "start_time": "2024-05-29T01:59:56.038Z"
   },
   {
    "duration": 5,
    "start_time": "2024-05-29T02:00:24.611Z"
   },
   {
    "duration": 481,
    "start_time": "2024-05-30T19:21:20.370Z"
   },
   {
    "duration": 36,
    "start_time": "2024-05-30T19:21:20.855Z"
   },
   {
    "duration": 23,
    "start_time": "2024-05-30T19:21:20.894Z"
   },
   {
    "duration": 15,
    "start_time": "2024-05-30T19:21:20.920Z"
   },
   {
    "duration": 4,
    "start_time": "2024-05-30T19:21:20.941Z"
   },
   {
    "duration": 17,
    "start_time": "2024-05-30T19:21:20.948Z"
   },
   {
    "duration": 38,
    "start_time": "2024-05-30T19:21:20.968Z"
   },
   {
    "duration": 21,
    "start_time": "2024-05-30T19:21:21.009Z"
   },
   {
    "duration": 16,
    "start_time": "2024-05-30T19:21:21.034Z"
   },
   {
    "duration": 15,
    "start_time": "2024-05-30T19:21:21.053Z"
   },
   {
    "duration": 57,
    "start_time": "2024-05-30T19:21:21.071Z"
   },
   {
    "duration": 17,
    "start_time": "2024-05-30T19:21:21.132Z"
   },
   {
    "duration": 22,
    "start_time": "2024-05-30T19:21:21.155Z"
   },
   {
    "duration": 59,
    "start_time": "2024-05-30T19:21:21.183Z"
   },
   {
    "duration": 4,
    "start_time": "2024-05-30T19:21:21.245Z"
   },
   {
    "duration": 385,
    "start_time": "2024-05-30T19:21:21.252Z"
   },
   {
    "duration": 36,
    "start_time": "2024-05-30T19:21:47.362Z"
   },
   {
    "duration": 37,
    "start_time": "2024-05-30T19:22:09.667Z"
   },
   {
    "duration": 26,
    "start_time": "2024-05-30T19:22:21.618Z"
   },
   {
    "duration": 905,
    "start_time": "2024-05-30T19:24:16.988Z"
   },
   {
    "duration": 34,
    "start_time": "2024-05-30T19:26:08.696Z"
   },
   {
    "duration": 29,
    "start_time": "2024-05-30T19:28:00.665Z"
   },
   {
    "duration": 27,
    "start_time": "2024-05-30T19:28:27.457Z"
   },
   {
    "duration": 28,
    "start_time": "2024-05-30T19:28:36.959Z"
   },
   {
    "duration": 8,
    "start_time": "2024-05-30T19:30:42.623Z"
   },
   {
    "duration": 10,
    "start_time": "2024-05-30T19:31:37.341Z"
   },
   {
    "duration": 8,
    "start_time": "2024-05-30T19:31:42.047Z"
   },
   {
    "duration": 7,
    "start_time": "2024-05-30T19:37:59.210Z"
   },
   {
    "duration": 9,
    "start_time": "2024-05-30T19:39:11.480Z"
   },
   {
    "duration": 10,
    "start_time": "2024-05-30T19:42:00.269Z"
   },
   {
    "duration": 23,
    "start_time": "2024-05-30T19:43:39.946Z"
   },
   {
    "duration": 7,
    "start_time": "2024-05-30T19:43:40.091Z"
   },
   {
    "duration": 17,
    "start_time": "2024-05-30T19:44:16.048Z"
   },
   {
    "duration": 34,
    "start_time": "2024-05-30T19:44:16.638Z"
   },
   {
    "duration": 10,
    "start_time": "2024-05-30T19:44:16.826Z"
   },
   {
    "duration": 22,
    "start_time": "2024-05-30T19:44:17.329Z"
   },
   {
    "duration": 8,
    "start_time": "2024-05-30T19:44:17.992Z"
   },
   {
    "duration": 480,
    "start_time": "2024-05-30T19:44:24.791Z"
   },
   {
    "duration": 17,
    "start_time": "2024-05-30T19:44:25.275Z"
   },
   {
    "duration": 12,
    "start_time": "2024-05-30T19:44:25.295Z"
   },
   {
    "duration": 11,
    "start_time": "2024-05-30T19:44:25.324Z"
   },
   {
    "duration": 4,
    "start_time": "2024-05-30T19:44:25.340Z"
   },
   {
    "duration": 6,
    "start_time": "2024-05-30T19:44:25.347Z"
   },
   {
    "duration": 20,
    "start_time": "2024-05-30T19:44:25.357Z"
   },
   {
    "duration": 21,
    "start_time": "2024-05-30T19:44:25.422Z"
   },
   {
    "duration": 16,
    "start_time": "2024-05-30T19:44:25.447Z"
   },
   {
    "duration": 15,
    "start_time": "2024-05-30T19:44:25.467Z"
   },
   {
    "duration": 17,
    "start_time": "2024-05-30T19:44:25.523Z"
   },
   {
    "duration": 14,
    "start_time": "2024-05-30T19:44:25.544Z"
   },
   {
    "duration": 65,
    "start_time": "2024-05-30T19:44:25.561Z"
   },
   {
    "duration": 27,
    "start_time": "2024-05-30T19:44:25.633Z"
   },
   {
    "duration": 10,
    "start_time": "2024-05-30T19:44:25.662Z"
   },
   {
    "duration": 59,
    "start_time": "2024-05-30T19:44:25.676Z"
   },
   {
    "duration": 12,
    "start_time": "2024-05-30T19:44:25.737Z"
   },
   {
    "duration": 4,
    "start_time": "2024-05-30T19:55:34.056Z"
   },
   {
    "duration": 7,
    "start_time": "2024-05-30T19:56:54.292Z"
   },
   {
    "duration": 16,
    "start_time": "2024-05-30T19:59:46.161Z"
   },
   {
    "duration": 433,
    "start_time": "2024-05-31T16:51:41.395Z"
   },
   {
    "duration": 36,
    "start_time": "2024-05-31T16:51:41.833Z"
   },
   {
    "duration": 25,
    "start_time": "2024-05-31T16:51:41.872Z"
   },
   {
    "duration": 12,
    "start_time": "2024-05-31T16:51:41.904Z"
   },
   {
    "duration": 5,
    "start_time": "2024-05-31T16:51:41.918Z"
   },
   {
    "duration": 10,
    "start_time": "2024-05-31T16:51:41.927Z"
   },
   {
    "duration": 33,
    "start_time": "2024-05-31T16:51:41.942Z"
   },
   {
    "duration": 21,
    "start_time": "2024-05-31T16:51:41.979Z"
   },
   {
    "duration": 30,
    "start_time": "2024-05-31T16:51:42.005Z"
   },
   {
    "duration": 11,
    "start_time": "2024-05-31T16:51:42.041Z"
   },
   {
    "duration": 16,
    "start_time": "2024-05-31T16:51:42.054Z"
   },
   {
    "duration": 11,
    "start_time": "2024-05-31T16:51:42.074Z"
   },
   {
    "duration": 60,
    "start_time": "2024-05-31T16:51:42.088Z"
   },
   {
    "duration": 25,
    "start_time": "2024-05-31T16:51:42.152Z"
   },
   {
    "duration": 10,
    "start_time": "2024-05-31T16:51:42.180Z"
   },
   {
    "duration": 58,
    "start_time": "2024-05-31T16:51:42.193Z"
   },
   {
    "duration": 8,
    "start_time": "2024-05-31T16:51:42.254Z"
   },
   {
    "duration": 3,
    "start_time": "2024-05-31T16:51:42.265Z"
   },
   {
    "duration": 488,
    "start_time": "2024-06-03T18:49:01.214Z"
   },
   {
    "duration": 31,
    "start_time": "2024-06-03T18:49:01.707Z"
   },
   {
    "duration": 29,
    "start_time": "2024-06-03T18:49:01.741Z"
   },
   {
    "duration": 20,
    "start_time": "2024-06-03T18:49:01.775Z"
   },
   {
    "duration": 4,
    "start_time": "2024-06-03T18:49:01.802Z"
   },
   {
    "duration": 6,
    "start_time": "2024-06-03T18:49:01.809Z"
   },
   {
    "duration": 26,
    "start_time": "2024-06-03T18:49:01.820Z"
   },
   {
    "duration": 19,
    "start_time": "2024-06-03T18:49:01.850Z"
   },
   {
    "duration": 15,
    "start_time": "2024-06-03T18:49:01.872Z"
   },
   {
    "duration": 44,
    "start_time": "2024-06-03T18:49:01.892Z"
   },
   {
    "duration": 15,
    "start_time": "2024-06-03T18:49:01.939Z"
   },
   {
    "duration": 11,
    "start_time": "2024-06-03T18:49:01.957Z"
   },
   {
    "duration": 61,
    "start_time": "2024-06-03T18:49:01.971Z"
   },
   {
    "duration": 31,
    "start_time": "2024-06-03T18:49:02.035Z"
   },
   {
    "duration": 9,
    "start_time": "2024-06-03T18:49:02.069Z"
   },
   {
    "duration": 55,
    "start_time": "2024-06-03T18:49:02.082Z"
   },
   {
    "duration": 8,
    "start_time": "2024-06-03T18:49:02.140Z"
   },
   {
    "duration": 4,
    "start_time": "2024-06-03T18:49:02.151Z"
   },
   {
    "duration": 17,
    "start_time": "2024-06-03T18:49:57.444Z"
   },
   {
    "duration": 11,
    "start_time": "2024-06-03T18:50:07.189Z"
   },
   {
    "duration": 138,
    "start_time": "2024-06-03T18:50:11.796Z"
   },
   {
    "duration": 16,
    "start_time": "2024-06-03T18:50:17.028Z"
   },
   {
    "duration": 12,
    "start_time": "2024-06-03T19:49:10.459Z"
   },
   {
    "duration": 35,
    "start_time": "2024-06-03T19:49:15.719Z"
   },
   {
    "duration": 50,
    "start_time": "2024-06-03T19:50:25.639Z"
   },
   {
    "duration": 44,
    "start_time": "2024-06-03T19:50:57.224Z"
   },
   {
    "duration": 27,
    "start_time": "2024-06-03T19:51:09.935Z"
   },
   {
    "duration": 29,
    "start_time": "2024-06-03T19:51:15.878Z"
   },
   {
    "duration": 6,
    "start_time": "2024-06-03T19:53:47.034Z"
   },
   {
    "duration": 8,
    "start_time": "2024-06-03T19:53:51.388Z"
   },
   {
    "duration": 6,
    "start_time": "2024-06-03T19:54:45.431Z"
   },
   {
    "duration": 8,
    "start_time": "2024-06-03T19:55:48.583Z"
   },
   {
    "duration": 35,
    "start_time": "2024-06-03T19:58:21.865Z"
   },
   {
    "duration": 44,
    "start_time": "2024-06-03T19:58:31.489Z"
   },
   {
    "duration": 1060,
    "start_time": "2024-06-03T20:00:13.088Z"
   },
   {
    "duration": 88,
    "start_time": "2024-06-03T20:00:20.054Z"
   },
   {
    "duration": 108,
    "start_time": "2024-06-03T20:00:26.436Z"
   },
   {
    "duration": 24,
    "start_time": "2024-06-03T20:00:37.692Z"
   },
   {
    "duration": 8,
    "start_time": "2024-06-03T20:00:42.489Z"
   },
   {
    "duration": 87,
    "start_time": "2024-06-03T20:00:50.139Z"
   },
   {
    "duration": 85,
    "start_time": "2024-06-03T20:00:53.579Z"
   },
   {
    "duration": 27,
    "start_time": "2024-06-03T20:01:13.278Z"
   },
   {
    "duration": 9,
    "start_time": "2024-06-03T20:01:13.984Z"
   },
   {
    "duration": 100,
    "start_time": "2024-06-03T20:01:17.309Z"
   },
   {
    "duration": 89,
    "start_time": "2024-06-03T20:01:22.536Z"
   },
   {
    "duration": 29,
    "start_time": "2024-06-03T20:01:26.279Z"
   },
   {
    "duration": 14,
    "start_time": "2024-06-03T20:01:26.968Z"
   },
   {
    "duration": 22,
    "start_time": "2024-06-03T20:02:30.166Z"
   },
   {
    "duration": 572,
    "start_time": "2024-06-03T20:05:14.930Z"
   },
   {
    "duration": 7,
    "start_time": "2024-06-03T20:05:59.642Z"
   },
   {
    "duration": 15,
    "start_time": "2024-06-03T20:06:05.444Z"
   },
   {
    "duration": 4,
    "start_time": "2024-06-03T20:07:10.713Z"
   },
   {
    "duration": 548,
    "start_time": "2024-06-03T20:08:56.958Z"
   },
   {
    "duration": 65,
    "start_time": "2024-06-03T20:08:57.514Z"
   },
   {
    "duration": 45,
    "start_time": "2024-06-03T20:08:57.602Z"
   },
   {
    "duration": 28,
    "start_time": "2024-06-03T20:08:57.651Z"
   },
   {
    "duration": 4,
    "start_time": "2024-06-03T20:08:57.685Z"
   },
   {
    "duration": 6,
    "start_time": "2024-06-03T20:08:57.695Z"
   },
   {
    "duration": 40,
    "start_time": "2024-06-03T20:08:57.705Z"
   },
   {
    "duration": 32,
    "start_time": "2024-06-03T20:08:57.751Z"
   },
   {
    "duration": 21,
    "start_time": "2024-06-03T20:08:57.787Z"
   },
   {
    "duration": 39,
    "start_time": "2024-06-03T20:08:57.813Z"
   },
   {
    "duration": 21,
    "start_time": "2024-06-03T20:08:57.856Z"
   },
   {
    "duration": 19,
    "start_time": "2024-06-03T20:08:57.880Z"
   },
   {
    "duration": 41,
    "start_time": "2024-06-03T20:08:57.904Z"
   },
   {
    "duration": 36,
    "start_time": "2024-06-03T20:08:57.951Z"
   },
   {
    "duration": 12,
    "start_time": "2024-06-03T20:08:57.993Z"
   },
   {
    "duration": 54,
    "start_time": "2024-06-03T20:08:58.008Z"
   },
   {
    "duration": 17,
    "start_time": "2024-06-03T20:08:58.074Z"
   },
   {
    "duration": 57,
    "start_time": "2024-06-03T20:08:58.096Z"
   },
   {
    "duration": 18,
    "start_time": "2024-06-03T20:08:58.157Z"
   },
   {
    "duration": 94,
    "start_time": "2024-06-03T20:08:58.179Z"
   },
   {
    "duration": 9,
    "start_time": "2024-06-03T20:10:55.093Z"
   },
   {
    "duration": 7,
    "start_time": "2024-06-03T20:13:10.147Z"
   },
   {
    "duration": 8,
    "start_time": "2024-06-03T20:13:13.785Z"
   },
   {
    "duration": 1128,
    "start_time": "2024-06-03T20:13:48.006Z"
   },
   {
    "duration": 26,
    "start_time": "2024-06-03T20:13:53.133Z"
   },
   {
    "duration": 11,
    "start_time": "2024-06-03T20:13:54.271Z"
   },
   {
    "duration": 491,
    "start_time": "2024-06-03T20:14:10.382Z"
   },
   {
    "duration": 7,
    "start_time": "2024-06-03T20:14:28.115Z"
   },
   {
    "duration": 5,
    "start_time": "2024-06-03T20:14:48.109Z"
   },
   {
    "duration": 5,
    "start_time": "2024-06-03T20:15:08.176Z"
   },
   {
    "duration": 6,
    "start_time": "2024-06-03T20:15:25.671Z"
   },
   {
    "duration": 9,
    "start_time": "2024-06-03T20:15:38.522Z"
   },
   {
    "duration": 107,
    "start_time": "2024-06-03T20:15:45.465Z"
   },
   {
    "duration": 7,
    "start_time": "2024-06-03T20:15:59.293Z"
   },
   {
    "duration": 8,
    "start_time": "2024-06-03T20:16:05.508Z"
   },
   {
    "duration": 10,
    "start_time": "2024-06-03T20:16:18.490Z"
   },
   {
    "duration": 12,
    "start_time": "2024-06-03T20:16:29.428Z"
   },
   {
    "duration": 14,
    "start_time": "2024-06-03T20:16:38.256Z"
   },
   {
    "duration": 3,
    "start_time": "2024-06-03T20:19:48.896Z"
   },
   {
    "duration": 8,
    "start_time": "2024-06-03T20:23:07.117Z"
   },
   {
    "duration": 9,
    "start_time": "2024-06-03T20:23:11.573Z"
   },
   {
    "duration": 25,
    "start_time": "2024-06-03T20:24:33.704Z"
   },
   {
    "duration": 7,
    "start_time": "2024-06-03T20:24:34.462Z"
   },
   {
    "duration": 4653,
    "start_time": "2024-06-03T20:29:38.768Z"
   },
   {
    "duration": 289,
    "start_time": "2024-06-03T20:30:48.969Z"
   },
   {
    "duration": 19,
    "start_time": "2024-06-03T20:30:54.644Z"
   },
   {
    "duration": 309,
    "start_time": "2024-06-03T20:31:00.424Z"
   },
   {
    "duration": 14,
    "start_time": "2024-06-03T20:31:32.763Z"
   },
   {
    "duration": 9,
    "start_time": "2024-06-03T20:31:38.731Z"
   },
   {
    "duration": 20,
    "start_time": "2024-06-03T20:31:42.141Z"
   },
   {
    "duration": 308,
    "start_time": "2024-06-03T20:32:16.015Z"
   },
   {
    "duration": 401,
    "start_time": "2024-06-03T20:32:24.803Z"
   },
   {
    "duration": 14,
    "start_time": "2024-06-03T20:32:33.178Z"
   },
   {
    "duration": 331,
    "start_time": "2024-06-03T20:33:12.747Z"
   },
   {
    "duration": 320,
    "start_time": "2024-06-03T20:33:26.112Z"
   },
   {
    "duration": 10,
    "start_time": "2024-06-03T20:34:08.811Z"
   },
   {
    "duration": 381,
    "start_time": "2024-06-03T20:34:16.826Z"
   },
   {
    "duration": 307,
    "start_time": "2024-06-03T20:34:23.478Z"
   },
   {
    "duration": 243,
    "start_time": "2024-06-03T20:34:27.892Z"
   },
   {
    "duration": 9,
    "start_time": "2024-06-03T20:34:36.782Z"
   },
   {
    "duration": 27,
    "start_time": "2024-06-03T20:37:25.806Z"
   },
   {
    "duration": 36,
    "start_time": "2024-06-03T20:37:36.143Z"
   },
   {
    "duration": 21,
    "start_time": "2024-06-03T20:37:46.598Z"
   },
   {
    "duration": 31,
    "start_time": "2024-06-03T20:37:49.559Z"
   },
   {
    "duration": 14,
    "start_time": "2024-06-03T20:39:44.664Z"
   },
   {
    "duration": 486,
    "start_time": "2024-06-03T20:52:05.741Z"
   },
   {
    "duration": 19,
    "start_time": "2024-06-03T20:52:06.232Z"
   },
   {
    "duration": 13,
    "start_time": "2024-06-03T20:52:06.254Z"
   },
   {
    "duration": 10,
    "start_time": "2024-06-03T20:52:06.277Z"
   },
   {
    "duration": 3,
    "start_time": "2024-06-03T20:52:06.290Z"
   },
   {
    "duration": 5,
    "start_time": "2024-06-03T20:52:06.297Z"
   },
   {
    "duration": 25,
    "start_time": "2024-06-03T20:52:06.333Z"
   },
   {
    "duration": 22,
    "start_time": "2024-06-03T20:52:06.363Z"
   },
   {
    "duration": 43,
    "start_time": "2024-06-03T20:52:06.390Z"
   },
   {
    "duration": 12,
    "start_time": "2024-06-03T20:52:06.440Z"
   },
   {
    "duration": 16,
    "start_time": "2024-06-03T20:52:06.456Z"
   },
   {
    "duration": 14,
    "start_time": "2024-06-03T20:52:06.476Z"
   },
   {
    "duration": 20,
    "start_time": "2024-06-03T20:52:06.530Z"
   },
   {
    "duration": 30,
    "start_time": "2024-06-03T20:52:06.554Z"
   },
   {
    "duration": 46,
    "start_time": "2024-06-03T20:52:06.587Z"
   },
   {
    "duration": 580,
    "start_time": "2024-06-03T20:52:06.636Z"
   },
   {
    "duration": 44,
    "start_time": "2024-06-03T20:52:07.220Z"
   },
   {
    "duration": 4,
    "start_time": "2024-06-03T20:52:07.267Z"
   },
   {
    "duration": 13,
    "start_time": "2024-06-03T20:52:07.275Z"
   },
   {
    "duration": 28,
    "start_time": "2024-06-03T21:01:19.261Z"
   },
   {
    "duration": 465,
    "start_time": "2024-06-03T21:01:29.530Z"
   },
   {
    "duration": 14,
    "start_time": "2024-06-03T21:01:29.999Z"
   },
   {
    "duration": 25,
    "start_time": "2024-06-03T21:01:30.016Z"
   },
   {
    "duration": 10,
    "start_time": "2024-06-03T21:01:30.047Z"
   },
   {
    "duration": 5,
    "start_time": "2024-06-03T21:01:30.060Z"
   },
   {
    "duration": 8,
    "start_time": "2024-06-03T21:01:30.069Z"
   },
   {
    "duration": 59,
    "start_time": "2024-06-03T21:01:30.081Z"
   },
   {
    "duration": 28,
    "start_time": "2024-06-03T21:01:30.144Z"
   },
   {
    "duration": 17,
    "start_time": "2024-06-03T21:01:30.176Z"
   },
   {
    "duration": 41,
    "start_time": "2024-06-03T21:01:30.199Z"
   },
   {
    "duration": 17,
    "start_time": "2024-06-03T21:01:30.243Z"
   },
   {
    "duration": 18,
    "start_time": "2024-06-03T21:01:30.264Z"
   },
   {
    "duration": 53,
    "start_time": "2024-06-03T21:01:30.286Z"
   },
   {
    "duration": 33,
    "start_time": "2024-06-03T21:01:30.343Z"
   },
   {
    "duration": 16,
    "start_time": "2024-06-03T21:01:30.379Z"
   },
   {
    "duration": 567,
    "start_time": "2024-06-03T21:01:30.398Z"
   },
   {
    "duration": 27,
    "start_time": "2024-06-03T21:01:30.969Z"
   },
   {
    "duration": 4,
    "start_time": "2024-06-03T21:01:30.999Z"
   },
   {
    "duration": 33,
    "start_time": "2024-06-03T21:01:31.006Z"
   },
   {
    "duration": 318,
    "start_time": "2024-06-03T21:17:24.195Z"
   },
   {
    "duration": 184,
    "start_time": "2024-06-03T21:17:49.554Z"
   },
   {
    "duration": 10,
    "start_time": "2024-06-03T21:17:53.447Z"
   },
   {
    "duration": 18,
    "start_time": "2024-06-03T21:23:20.685Z"
   },
   {
    "duration": 16,
    "start_time": "2024-06-03T21:23:24.477Z"
   },
   {
    "duration": 14,
    "start_time": "2024-06-03T21:23:38.912Z"
   },
   {
    "duration": 10,
    "start_time": "2024-06-03T21:23:44.318Z"
   },
   {
    "duration": 455,
    "start_time": "2024-06-03T21:30:15.320Z"
   },
   {
    "duration": 11,
    "start_time": "2024-06-03T21:30:24.205Z"
   },
   {
    "duration": 3,
    "start_time": "2024-06-03T21:31:13.276Z"
   },
   {
    "duration": 7,
    "start_time": "2024-06-03T21:33:20.788Z"
   },
   {
    "duration": 9,
    "start_time": "2024-06-03T21:33:47.877Z"
   },
   {
    "duration": 5,
    "start_time": "2024-06-03T21:34:35.414Z"
   },
   {
    "duration": 6,
    "start_time": "2024-06-03T21:34:35.703Z"
   },
   {
    "duration": 21,
    "start_time": "2024-06-03T21:37:08.709Z"
   },
   {
    "duration": 15,
    "start_time": "2024-06-03T21:37:29.017Z"
   },
   {
    "duration": 3,
    "start_time": "2024-06-03T21:48:06.490Z"
   },
   {
    "duration": 4,
    "start_time": "2024-06-03T21:49:44.775Z"
   },
   {
    "duration": 34,
    "start_time": "2024-06-03T21:49:48.910Z"
   },
   {
    "duration": 25,
    "start_time": "2024-06-03T21:55:52.135Z"
   },
   {
    "duration": 27,
    "start_time": "2024-06-03T21:59:45.747Z"
   },
   {
    "duration": 27,
    "start_time": "2024-06-03T22:00:48.794Z"
   },
   {
    "duration": 745,
    "start_time": "2024-06-03T22:00:56.657Z"
   },
   {
    "duration": 5,
    "start_time": "2024-06-03T22:01:40.340Z"
   },
   {
    "duration": 30,
    "start_time": "2024-06-03T22:02:04.371Z"
   },
   {
    "duration": 61,
    "start_time": "2024-06-03T22:02:44.112Z"
   },
   {
    "duration": 436,
    "start_time": "2024-06-03T22:02:52.202Z"
   },
   {
    "duration": 22,
    "start_time": "2024-06-03T22:02:52.641Z"
   },
   {
    "duration": 13,
    "start_time": "2024-06-03T22:02:52.666Z"
   },
   {
    "duration": 10,
    "start_time": "2024-06-03T22:02:52.684Z"
   },
   {
    "duration": 52,
    "start_time": "2024-06-03T22:02:52.698Z"
   },
   {
    "duration": 1121,
    "start_time": "2024-06-03T22:02:52.754Z"
   },
   {
    "duration": 0,
    "start_time": "2024-06-03T22:02:53.879Z"
   },
   {
    "duration": 0,
    "start_time": "2024-06-03T22:02:53.882Z"
   },
   {
    "duration": 0,
    "start_time": "2024-06-03T22:02:53.884Z"
   },
   {
    "duration": 0,
    "start_time": "2024-06-03T22:02:53.886Z"
   },
   {
    "duration": 0,
    "start_time": "2024-06-03T22:02:53.888Z"
   },
   {
    "duration": 0,
    "start_time": "2024-06-03T22:02:53.890Z"
   },
   {
    "duration": 0,
    "start_time": "2024-06-03T22:02:53.892Z"
   },
   {
    "duration": 0,
    "start_time": "2024-06-03T22:02:53.895Z"
   },
   {
    "duration": 0,
    "start_time": "2024-06-03T22:02:53.898Z"
   },
   {
    "duration": 0,
    "start_time": "2024-06-03T22:02:53.930Z"
   },
   {
    "duration": 0,
    "start_time": "2024-06-03T22:02:53.932Z"
   },
   {
    "duration": 0,
    "start_time": "2024-06-03T22:02:53.935Z"
   },
   {
    "duration": 0,
    "start_time": "2024-06-03T22:02:53.937Z"
   },
   {
    "duration": 0,
    "start_time": "2024-06-03T22:02:53.939Z"
   },
   {
    "duration": 0,
    "start_time": "2024-06-03T22:02:53.941Z"
   },
   {
    "duration": 0,
    "start_time": "2024-06-03T22:02:53.944Z"
   },
   {
    "duration": 0,
    "start_time": "2024-06-03T22:02:53.946Z"
   },
   {
    "duration": 0,
    "start_time": "2024-06-03T22:02:53.949Z"
   },
   {
    "duration": 0,
    "start_time": "2024-06-03T22:02:53.951Z"
   },
   {
    "duration": 0,
    "start_time": "2024-06-03T22:02:53.953Z"
   },
   {
    "duration": 0,
    "start_time": "2024-06-03T22:02:53.957Z"
   },
   {
    "duration": 18,
    "start_time": "2024-06-03T22:03:09.544Z"
   },
   {
    "duration": 23,
    "start_time": "2024-06-03T22:03:19.412Z"
   },
   {
    "duration": 21,
    "start_time": "2024-06-03T22:05:00.443Z"
   },
   {
    "duration": 3,
    "start_time": "2024-06-03T22:05:23.342Z"
   },
   {
    "duration": 13,
    "start_time": "2024-06-03T22:05:23.657Z"
   },
   {
    "duration": 11,
    "start_time": "2024-06-03T22:05:23.795Z"
   },
   {
    "duration": 8,
    "start_time": "2024-06-03T22:05:23.951Z"
   },
   {
    "duration": 22,
    "start_time": "2024-06-03T22:05:24.951Z"
   },
   {
    "duration": 23,
    "start_time": "2024-06-03T22:05:25.865Z"
   },
   {
    "duration": 9,
    "start_time": "2024-06-03T22:05:48.278Z"
   },
   {
    "duration": 10,
    "start_time": "2024-06-03T22:06:04.997Z"
   },
   {
    "duration": 9,
    "start_time": "2024-06-03T22:06:59.891Z"
   },
   {
    "duration": 8,
    "start_time": "2024-06-03T22:07:02.697Z"
   },
   {
    "duration": 8,
    "start_time": "2024-06-03T22:07:14.525Z"
   },
   {
    "duration": 527,
    "start_time": "2024-06-04T02:54:45.440Z"
   },
   {
    "duration": 30,
    "start_time": "2024-06-04T02:54:46.017Z"
   },
   {
    "duration": 26,
    "start_time": "2024-06-04T02:54:46.369Z"
   },
   {
    "duration": 11,
    "start_time": "2024-06-04T02:54:46.673Z"
   },
   {
    "duration": 30,
    "start_time": "2024-06-04T02:54:48.240Z"
   },
   {
    "duration": 10,
    "start_time": "2024-06-04T02:54:49.075Z"
   },
   {
    "duration": 19,
    "start_time": "2024-06-04T02:54:50.217Z"
   },
   {
    "duration": 9,
    "start_time": "2024-06-04T02:54:51.594Z"
   },
   {
    "duration": 21,
    "start_time": "2024-06-04T02:54:52.705Z"
   },
   {
    "duration": 8,
    "start_time": "2024-06-04T02:54:53.547Z"
   },
   {
    "duration": 4,
    "start_time": "2024-06-04T02:54:55.469Z"
   },
   {
    "duration": 5,
    "start_time": "2024-06-04T02:54:56.429Z"
   },
   {
    "duration": 16,
    "start_time": "2024-06-04T02:55:06.109Z"
   },
   {
    "duration": 15,
    "start_time": "2024-06-04T02:55:06.460Z"
   },
   {
    "duration": 14,
    "start_time": "2024-06-04T02:55:07.249Z"
   },
   {
    "duration": 10,
    "start_time": "2024-06-04T02:55:07.614Z"
   },
   {
    "duration": 14,
    "start_time": "2024-06-04T02:55:08.086Z"
   },
   {
    "duration": 11,
    "start_time": "2024-06-04T02:55:08.384Z"
   },
   {
    "duration": 1172,
    "start_time": "2024-06-04T02:55:23.983Z"
   },
   {
    "duration": 81,
    "start_time": "2024-06-04T02:55:25.421Z"
   },
   {
    "duration": 18,
    "start_time": "2024-06-04T02:56:13.362Z"
   },
   {
    "duration": 280,
    "start_time": "2024-06-04T02:56:45.982Z"
   },
   {
    "duration": 31,
    "start_time": "2024-06-04T02:57:18.072Z"
   },
   {
    "duration": 9,
    "start_time": "2024-06-04T02:57:35.296Z"
   },
   {
    "duration": 4210,
    "start_time": "2024-06-04T02:57:36.277Z"
   },
   {
    "duration": 21,
    "start_time": "2024-06-04T02:57:50.029Z"
   },
   {
    "duration": 4,
    "start_time": "2024-06-04T02:57:53.183Z"
   },
   {
    "duration": 31,
    "start_time": "2024-06-04T02:58:50.714Z"
   },
   {
    "duration": 17,
    "start_time": "2024-06-04T02:58:58.205Z"
   },
   {
    "duration": 27,
    "start_time": "2024-06-04T02:59:03.134Z"
   },
   {
    "duration": 8,
    "start_time": "2024-06-04T02:59:04.172Z"
   },
   {
    "duration": 6,
    "start_time": "2024-06-04T02:59:32.456Z"
   },
   {
    "duration": 5,
    "start_time": "2024-06-04T02:59:32.770Z"
   },
   {
    "duration": 15,
    "start_time": "2024-06-04T02:59:32.986Z"
   },
   {
    "duration": 6,
    "start_time": "2024-06-04T03:00:35.025Z"
   },
   {
    "duration": 5,
    "start_time": "2024-06-04T03:00:35.204Z"
   },
   {
    "duration": 16,
    "start_time": "2024-06-04T03:00:35.847Z"
   },
   {
    "duration": 5,
    "start_time": "2024-06-04T03:14:22.348Z"
   },
   {
    "duration": 7,
    "start_time": "2024-06-04T03:14:25.869Z"
   },
   {
    "duration": 17,
    "start_time": "2024-06-04T03:14:47.923Z"
   },
   {
    "duration": 5,
    "start_time": "2024-06-04T03:15:09.859Z"
   },
   {
    "duration": 7,
    "start_time": "2024-06-04T03:15:12.820Z"
   },
   {
    "duration": 91,
    "start_time": "2024-06-04T03:18:51.306Z"
   },
   {
    "duration": 7,
    "start_time": "2024-06-04T03:19:20.864Z"
   },
   {
    "duration": 81,
    "start_time": "2024-06-04T03:19:25.743Z"
   },
   {
    "duration": 6,
    "start_time": "2024-06-04T03:19:56.968Z"
   },
   {
    "duration": 10,
    "start_time": "2024-06-04T03:20:02.365Z"
   },
   {
    "duration": 14,
    "start_time": "2024-06-04T03:20:18.421Z"
   },
   {
    "duration": 11,
    "start_time": "2024-06-04T03:20:53.051Z"
   },
   {
    "duration": 9,
    "start_time": "2024-06-04T03:21:06.548Z"
   },
   {
    "duration": 8,
    "start_time": "2024-06-04T03:21:16.720Z"
   },
   {
    "duration": 454,
    "start_time": "2024-06-04T13:59:25.945Z"
   },
   {
    "duration": 29,
    "start_time": "2024-06-04T13:59:26.403Z"
   },
   {
    "duration": 26,
    "start_time": "2024-06-04T13:59:26.438Z"
   },
   {
    "duration": 16,
    "start_time": "2024-06-04T13:59:26.470Z"
   },
   {
    "duration": 39,
    "start_time": "2024-06-04T13:59:26.490Z"
   },
   {
    "duration": 16,
    "start_time": "2024-06-04T13:59:26.533Z"
   },
   {
    "duration": 12,
    "start_time": "2024-06-04T13:59:26.556Z"
   },
   {
    "duration": 41,
    "start_time": "2024-06-04T13:59:26.579Z"
   },
   {
    "duration": 9,
    "start_time": "2024-06-04T13:59:26.624Z"
   },
   {
    "duration": 17,
    "start_time": "2024-06-04T13:59:26.641Z"
   },
   {
    "duration": 57,
    "start_time": "2024-06-04T13:59:26.662Z"
   },
   {
    "duration": 10,
    "start_time": "2024-06-04T13:59:26.723Z"
   },
   {
    "duration": 12,
    "start_time": "2024-06-04T13:59:26.737Z"
   },
   {
    "duration": 5,
    "start_time": "2024-06-04T13:59:26.753Z"
   },
   {
    "duration": 7,
    "start_time": "2024-06-04T13:59:26.764Z"
   },
   {
    "duration": 19,
    "start_time": "2024-06-04T13:59:26.813Z"
   },
   {
    "duration": 14,
    "start_time": "2024-06-04T13:59:26.836Z"
   },
   {
    "duration": 15,
    "start_time": "2024-06-04T13:59:26.854Z"
   },
   {
    "duration": 13,
    "start_time": "2024-06-04T13:59:26.915Z"
   },
   {
    "duration": 17,
    "start_time": "2024-06-04T13:59:26.931Z"
   },
   {
    "duration": 21,
    "start_time": "2024-06-04T13:59:26.952Z"
   },
   {
    "duration": 56,
    "start_time": "2024-06-04T13:59:26.976Z"
   },
   {
    "duration": 27,
    "start_time": "2024-06-04T13:59:27.036Z"
   },
   {
    "duration": 46,
    "start_time": "2024-06-04T13:59:27.066Z"
   },
   {
    "duration": 4403,
    "start_time": "2024-06-04T13:59:27.115Z"
   },
   {
    "duration": 31,
    "start_time": "2024-06-04T13:59:31.528Z"
   },
   {
    "duration": 6,
    "start_time": "2024-06-04T13:59:31.562Z"
   },
   {
    "duration": 7,
    "start_time": "2024-06-04T13:59:31.575Z"
   },
   {
    "duration": 16,
    "start_time": "2024-06-04T13:59:31.611Z"
   },
   {
    "duration": 9,
    "start_time": "2024-06-04T13:59:31.630Z"
   },
   {
    "duration": 8,
    "start_time": "2024-06-04T13:59:31.642Z"
   },
   {
    "duration": 829,
    "start_time": "2024-06-04T14:07:25.977Z"
   },
   {
    "duration": 69,
    "start_time": "2024-06-04T14:07:26.812Z"
   },
   {
    "duration": 8,
    "start_time": "2024-06-04T14:07:27.761Z"
   },
   {
    "duration": 9,
    "start_time": "2024-06-04T14:07:38.990Z"
   },
   {
    "duration": 22,
    "start_time": "2024-06-04T14:07:58.491Z"
   },
   {
    "duration": 153,
    "start_time": "2024-06-04T14:07:58.797Z"
   },
   {
    "duration": 10,
    "start_time": "2024-06-04T14:07:59.621Z"
   },
   {
    "duration": 19,
    "start_time": "2024-06-04T14:08:03.745Z"
   },
   {
    "duration": 16,
    "start_time": "2024-06-04T14:08:04.530Z"
   },
   {
    "duration": 9,
    "start_time": "2024-06-04T14:08:05.191Z"
   },
   {
    "duration": 23,
    "start_time": "2024-06-04T14:08:06.910Z"
   },
   {
    "duration": 9,
    "start_time": "2024-06-04T14:08:07.609Z"
   },
   {
    "duration": 9,
    "start_time": "2024-06-04T14:08:08.159Z"
   },
   {
    "duration": 3,
    "start_time": "2024-06-04T14:08:17.087Z"
   },
   {
    "duration": 5,
    "start_time": "2024-06-04T14:08:18.071Z"
   },
   {
    "duration": 18,
    "start_time": "2024-06-04T14:08:27.055Z"
   },
   {
    "duration": 14,
    "start_time": "2024-06-04T14:13:03.504Z"
   },
   {
    "duration": 10,
    "start_time": "2024-06-04T14:13:16.296Z"
   },
   {
    "duration": 9,
    "start_time": "2024-06-04T14:14:18.735Z"
   },
   {
    "duration": 14,
    "start_time": "2024-06-04T14:14:23.576Z"
   },
   {
    "duration": 359,
    "start_time": "2024-06-04T14:16:49.016Z"
   },
   {
    "duration": 4,
    "start_time": "2024-06-04T14:16:59.908Z"
   },
   {
    "duration": 5,
    "start_time": "2024-06-04T14:17:04.846Z"
   },
   {
    "duration": 13,
    "start_time": "2024-06-04T14:17:16.169Z"
   },
   {
    "duration": 12,
    "start_time": "2024-06-04T14:18:04.485Z"
   },
   {
    "duration": 12,
    "start_time": "2024-06-04T14:18:06.156Z"
   },
   {
    "duration": 597,
    "start_time": "2024-06-04T14:18:33.971Z"
   },
   {
    "duration": 750,
    "start_time": "2024-06-04T14:18:41.396Z"
   },
   {
    "duration": 771,
    "start_time": "2024-06-04T14:23:30.406Z"
   },
   {
    "duration": 69,
    "start_time": "2024-06-04T14:23:31.181Z"
   },
   {
    "duration": 10,
    "start_time": "2024-06-04T14:23:31.253Z"
   },
   {
    "duration": 23,
    "start_time": "2024-06-04T14:23:47.227Z"
   },
   {
    "duration": 111,
    "start_time": "2024-06-04T14:23:49.131Z"
   },
   {
    "duration": 121,
    "start_time": "2024-06-04T14:23:53.781Z"
   },
   {
    "duration": 11,
    "start_time": "2024-06-04T14:23:55.813Z"
   },
   {
    "duration": 17,
    "start_time": "2024-06-04T14:24:10.032Z"
   },
   {
    "duration": 15,
    "start_time": "2024-06-04T14:24:13.080Z"
   },
   {
    "duration": 10,
    "start_time": "2024-06-04T14:24:14.964Z"
   },
   {
    "duration": 18,
    "start_time": "2024-06-04T14:24:25.708Z"
   },
   {
    "duration": 9,
    "start_time": "2024-06-04T14:24:36.620Z"
   },
   {
    "duration": 8,
    "start_time": "2024-06-04T14:24:37.201Z"
   },
   {
    "duration": 10,
    "start_time": "2024-06-04T14:24:38.954Z"
   },
   {
    "duration": 8,
    "start_time": "2024-06-04T14:24:43.369Z"
   },
   {
    "duration": 18,
    "start_time": "2024-06-04T14:24:50.122Z"
   },
   {
    "duration": 12,
    "start_time": "2024-06-04T14:24:58.833Z"
   },
   {
    "duration": 15,
    "start_time": "2024-06-04T14:25:05.260Z"
   },
   {
    "duration": 12,
    "start_time": "2024-06-04T14:25:10.752Z"
   },
   {
    "duration": 18,
    "start_time": "2024-06-04T14:25:15.351Z"
   },
   {
    "duration": 12,
    "start_time": "2024-06-04T14:25:17.424Z"
   },
   {
    "duration": 891,
    "start_time": "2024-06-04T14:25:36.185Z"
   },
   {
    "duration": 81,
    "start_time": "2024-06-04T14:25:39.444Z"
   },
   {
    "duration": 83,
    "start_time": "2024-06-04T14:25:49.165Z"
   },
   {
    "duration": 7,
    "start_time": "2024-06-04T14:30:25.298Z"
   },
   {
    "duration": 16,
    "start_time": "2024-06-04T14:30:27.373Z"
   },
   {
    "duration": 12,
    "start_time": "2024-06-04T14:30:34.808Z"
   },
   {
    "duration": 15,
    "start_time": "2024-06-04T14:31:03.159Z"
   },
   {
    "duration": 11,
    "start_time": "2024-06-04T14:31:07.224Z"
   },
   {
    "duration": 15,
    "start_time": "2024-06-04T14:31:10.097Z"
   },
   {
    "duration": 10,
    "start_time": "2024-06-04T14:31:11.721Z"
   },
   {
    "duration": 77,
    "start_time": "2024-06-04T14:31:35.514Z"
   },
   {
    "duration": 23,
    "start_time": "2024-06-04T14:31:56.566Z"
   },
   {
    "duration": 113,
    "start_time": "2024-06-04T14:31:56.923Z"
   },
   {
    "duration": 23,
    "start_time": "2024-06-04T14:32:10.080Z"
   },
   {
    "duration": 139,
    "start_time": "2024-06-04T14:32:15.442Z"
   },
   {
    "duration": 12,
    "start_time": "2024-06-04T14:32:15.613Z"
   },
   {
    "duration": 17,
    "start_time": "2024-06-04T14:32:23.065Z"
   },
   {
    "duration": 14,
    "start_time": "2024-06-04T14:32:23.678Z"
   },
   {
    "duration": 11,
    "start_time": "2024-06-04T14:32:24.221Z"
   },
   {
    "duration": 16,
    "start_time": "2024-06-04T14:32:29.641Z"
   },
   {
    "duration": 9,
    "start_time": "2024-06-04T14:32:30.190Z"
   },
   {
    "duration": 11,
    "start_time": "2024-06-04T14:32:30.842Z"
   },
   {
    "duration": 8,
    "start_time": "2024-06-04T14:32:57.981Z"
   },
   {
    "duration": 9,
    "start_time": "2024-06-04T14:32:58.531Z"
   },
   {
    "duration": 4,
    "start_time": "2024-06-04T14:32:59.725Z"
   },
   {
    "duration": 7,
    "start_time": "2024-06-04T14:33:00.300Z"
   },
   {
    "duration": 7,
    "start_time": "2024-06-04T14:33:05.322Z"
   },
   {
    "duration": 16,
    "start_time": "2024-06-04T14:33:07.278Z"
   },
   {
    "duration": 12,
    "start_time": "2024-06-04T14:33:10.623Z"
   },
   {
    "duration": 15,
    "start_time": "2024-06-04T14:33:11.954Z"
   },
   {
    "duration": 12,
    "start_time": "2024-06-04T14:33:16.553Z"
   },
   {
    "duration": 13,
    "start_time": "2024-06-04T14:33:24.606Z"
   },
   {
    "duration": 11,
    "start_time": "2024-06-04T14:33:25.010Z"
   },
   {
    "duration": 233,
    "start_time": "2024-06-04T14:33:27.209Z"
   },
   {
    "duration": 241,
    "start_time": "2024-06-04T14:33:40.831Z"
   },
   {
    "duration": 191,
    "start_time": "2024-06-04T14:34:09.765Z"
   },
   {
    "duration": 197,
    "start_time": "2024-06-04T14:34:34.003Z"
   },
   {
    "duration": 81,
    "start_time": "2024-06-04T14:34:35.315Z"
   },
   {
    "duration": 24,
    "start_time": "2024-06-04T14:34:43.474Z"
   },
   {
    "duration": 271,
    "start_time": "2024-06-04T14:34:48.766Z"
   },
   {
    "duration": 359,
    "start_time": "2024-06-04T14:35:06.703Z"
   },
   {
    "duration": 33,
    "start_time": "2024-06-04T14:35:24.345Z"
   },
   {
    "duration": 14,
    "start_time": "2024-06-04T14:35:40.339Z"
   },
   {
    "duration": 445,
    "start_time": "2024-06-04T14:35:43.721Z"
   },
   {
    "duration": 97,
    "start_time": "2024-06-04T14:35:48.703Z"
   },
   {
    "duration": 16,
    "start_time": "2024-06-04T14:35:55.406Z"
   },
   {
    "duration": 79,
    "start_time": "2024-06-04T14:35:57.714Z"
   },
   {
    "duration": 17,
    "start_time": "2024-06-04T14:36:10.476Z"
   },
   {
    "duration": 13,
    "start_time": "2024-06-04T14:38:37.227Z"
   },
   {
    "duration": 12,
    "start_time": "2024-06-04T14:39:18.293Z"
   },
   {
    "duration": 424,
    "start_time": "2024-06-04T14:39:59.139Z"
   },
   {
    "duration": 11,
    "start_time": "2024-06-04T14:40:20.220Z"
   },
   {
    "duration": 398,
    "start_time": "2024-06-04T14:40:25.994Z"
   },
   {
    "duration": 190,
    "start_time": "2024-06-04T14:41:15.104Z"
   },
   {
    "duration": 222,
    "start_time": "2024-06-04T14:41:35.106Z"
   },
   {
    "duration": 12,
    "start_time": "2024-06-04T14:41:36.402Z"
   },
   {
    "duration": 406,
    "start_time": "2024-06-04T14:41:36.990Z"
   },
   {
    "duration": 13,
    "start_time": "2024-06-04T14:41:54.324Z"
   },
   {
    "duration": 12,
    "start_time": "2024-06-04T14:42:03.935Z"
   },
   {
    "duration": 12,
    "start_time": "2024-06-04T14:45:55.942Z"
   },
   {
    "duration": 9,
    "start_time": "2024-06-04T14:45:59.475Z"
   },
   {
    "duration": 10,
    "start_time": "2024-06-04T14:55:14.455Z"
   },
   {
    "duration": 25,
    "start_time": "2024-06-04T15:02:53.722Z"
   },
   {
    "duration": 31,
    "start_time": "2024-06-04T15:03:33.433Z"
   },
   {
    "duration": 29,
    "start_time": "2024-06-04T15:04:08.902Z"
   },
   {
    "duration": 26,
    "start_time": "2024-06-04T15:04:28.283Z"
   },
   {
    "duration": 28,
    "start_time": "2024-06-04T15:04:43.818Z"
   },
   {
    "duration": 693,
    "start_time": "2024-06-04T15:05:03.228Z"
   },
   {
    "duration": 87,
    "start_time": "2024-06-04T15:05:09.023Z"
   },
   {
    "duration": 4,
    "start_time": "2024-06-04T15:05:41.074Z"
   },
   {
    "duration": 27,
    "start_time": "2024-06-04T15:05:44.826Z"
   },
   {
    "duration": 46,
    "start_time": "2024-06-04T15:06:21.782Z"
   },
   {
    "duration": 1096,
    "start_time": "2024-06-04T15:06:49.289Z"
   },
   {
    "duration": 87,
    "start_time": "2024-06-04T15:16:34.880Z"
   },
   {
    "duration": 11,
    "start_time": "2024-06-04T15:16:46.744Z"
   },
   {
    "duration": 10,
    "start_time": "2024-06-04T15:16:52.356Z"
   },
   {
    "duration": 43,
    "start_time": "2024-06-04T15:21:00.800Z"
   },
   {
    "duration": 15,
    "start_time": "2024-06-04T15:21:15.587Z"
   },
   {
    "duration": 1321,
    "start_time": "2024-06-04T15:27:10.994Z"
   },
   {
    "duration": 774,
    "start_time": "2024-06-04T15:27:12.320Z"
   },
   {
    "duration": 69,
    "start_time": "2024-06-04T15:27:13.096Z"
   },
   {
    "duration": 10,
    "start_time": "2024-06-04T15:27:13.168Z"
   },
   {
    "duration": 46,
    "start_time": "2024-06-04T15:27:13.184Z"
   },
   {
    "duration": 170,
    "start_time": "2024-06-04T15:27:13.233Z"
   },
   {
    "duration": 20,
    "start_time": "2024-06-04T15:27:13.407Z"
   },
   {
    "duration": 18,
    "start_time": "2024-06-04T15:27:13.434Z"
   },
   {
    "duration": 15,
    "start_time": "2024-06-04T15:27:13.455Z"
   },
   {
    "duration": 44,
    "start_time": "2024-06-04T15:27:13.472Z"
   },
   {
    "duration": 21,
    "start_time": "2024-06-04T15:27:13.519Z"
   },
   {
    "duration": 8,
    "start_time": "2024-06-04T15:27:13.543Z"
   },
   {
    "duration": 12,
    "start_time": "2024-06-04T15:27:13.554Z"
   },
   {
    "duration": 3,
    "start_time": "2024-06-04T15:27:13.616Z"
   },
   {
    "duration": 6,
    "start_time": "2024-06-04T15:27:13.623Z"
   },
   {
    "duration": 17,
    "start_time": "2024-06-04T15:27:13.632Z"
   },
   {
    "duration": 14,
    "start_time": "2024-06-04T15:27:13.652Z"
   },
   {
    "duration": 59,
    "start_time": "2024-06-04T15:27:13.669Z"
   },
   {
    "duration": 11,
    "start_time": "2024-06-04T15:27:13.731Z"
   },
   {
    "duration": 14,
    "start_time": "2024-06-04T15:27:13.745Z"
   },
   {
    "duration": 10,
    "start_time": "2024-06-04T15:27:13.763Z"
   },
   {
    "duration": 265,
    "start_time": "2024-06-04T15:27:13.817Z"
   },
   {
    "duration": 213,
    "start_time": "2024-06-04T15:27:14.084Z"
   },
   {
    "duration": 37,
    "start_time": "2024-06-04T15:27:14.300Z"
   },
   {
    "duration": 347,
    "start_time": "2024-06-04T15:27:14.341Z"
   },
   {
    "duration": 369,
    "start_time": "2024-06-04T15:27:14.691Z"
   },
   {
    "duration": 49,
    "start_time": "2024-06-04T15:27:15.063Z"
   },
   {
    "duration": 11,
    "start_time": "2024-06-04T15:27:15.115Z"
   },
   {
    "duration": 197,
    "start_time": "2024-06-04T15:27:15.130Z"
   },
   {
    "duration": 12,
    "start_time": "2024-06-04T15:27:15.330Z"
   },
   {
    "duration": 93,
    "start_time": "2024-06-04T15:27:15.344Z"
   },
   {
    "duration": 451,
    "start_time": "2024-06-04T15:27:15.441Z"
   },
   {
    "duration": 32,
    "start_time": "2024-06-04T15:27:15.895Z"
   },
   {
    "duration": 28,
    "start_time": "2024-06-04T15:27:15.930Z"
   },
   {
    "duration": 70,
    "start_time": "2024-06-04T15:27:15.961Z"
   },
   {
    "duration": 1087,
    "start_time": "2024-06-04T15:27:16.034Z"
   },
   {
    "duration": 10,
    "start_time": "2024-06-04T15:27:17.124Z"
   },
   {
    "duration": 11,
    "start_time": "2024-06-04T15:27:17.138Z"
   },
   {
    "duration": 996,
    "start_time": "2024-06-04T15:30:26.745Z"
   },
   {
    "duration": 5013,
    "start_time": "2024-06-04T20:46:45.966Z"
   },
   {
    "duration": 894,
    "start_time": "2024-06-04T20:46:50.982Z"
   },
   {
    "duration": 104,
    "start_time": "2024-06-04T20:46:51.879Z"
   },
   {
    "duration": 12,
    "start_time": "2024-06-04T20:46:51.988Z"
   },
   {
    "duration": 28,
    "start_time": "2024-06-04T20:46:52.004Z"
   },
   {
    "duration": 175,
    "start_time": "2024-06-04T20:46:52.036Z"
   },
   {
    "duration": 15,
    "start_time": "2024-06-04T20:46:52.223Z"
   },
   {
    "duration": 21,
    "start_time": "2024-06-04T20:46:52.241Z"
   },
   {
    "duration": 16,
    "start_time": "2024-06-04T20:46:52.265Z"
   },
   {
    "duration": 11,
    "start_time": "2024-06-04T20:46:52.323Z"
   },
   {
    "duration": 19,
    "start_time": "2024-06-04T20:46:52.336Z"
   },
   {
    "duration": 9,
    "start_time": "2024-06-04T20:46:52.358Z"
   },
   {
    "duration": 52,
    "start_time": "2024-06-04T20:46:52.371Z"
   },
   {
    "duration": 4,
    "start_time": "2024-06-04T20:46:52.427Z"
   },
   {
    "duration": 7,
    "start_time": "2024-06-04T20:46:52.435Z"
   },
   {
    "duration": 21,
    "start_time": "2024-06-04T20:46:52.446Z"
   },
   {
    "duration": 59,
    "start_time": "2024-06-04T20:46:52.471Z"
   },
   {
    "duration": 16,
    "start_time": "2024-06-04T20:46:52.533Z"
   },
   {
    "duration": 12,
    "start_time": "2024-06-04T20:46:52.552Z"
   },
   {
    "duration": 56,
    "start_time": "2024-06-04T20:46:52.567Z"
   },
   {
    "duration": 12,
    "start_time": "2024-06-04T20:46:52.627Z"
   },
   {
    "duration": 272,
    "start_time": "2024-06-04T20:46:52.643Z"
   },
   {
    "duration": 212,
    "start_time": "2024-06-04T20:46:52.923Z"
   },
   {
    "duration": 27,
    "start_time": "2024-06-04T20:46:53.138Z"
   },
   {
    "duration": 338,
    "start_time": "2024-06-04T20:46:53.169Z"
   },
   {
    "duration": 586,
    "start_time": "2024-06-04T20:46:53.511Z"
   },
   {
    "duration": 67,
    "start_time": "2024-06-04T20:46:54.101Z"
   },
   {
    "duration": 13,
    "start_time": "2024-06-04T20:46:54.178Z"
   },
   {
    "duration": 274,
    "start_time": "2024-06-04T20:46:54.195Z"
   },
   {
    "duration": 21,
    "start_time": "2024-06-04T20:46:54.474Z"
   },
   {
    "duration": 29,
    "start_time": "2024-06-04T20:46:54.501Z"
   },
   {
    "duration": 483,
    "start_time": "2024-06-04T20:46:54.535Z"
   },
   {
    "duration": 26,
    "start_time": "2024-06-04T20:46:55.024Z"
   },
   {
    "duration": 34,
    "start_time": "2024-06-04T20:46:55.053Z"
   },
   {
    "duration": 79,
    "start_time": "2024-06-04T20:46:55.090Z"
   },
   {
    "duration": 1287,
    "start_time": "2024-06-04T20:46:55.172Z"
   },
   {
    "duration": 990,
    "start_time": "2024-06-04T20:46:56.463Z"
   },
   {
    "duration": 0,
    "start_time": "2024-06-04T20:46:57.456Z"
   },
   {
    "duration": 0,
    "start_time": "2024-06-04T20:46:57.459Z"
   },
   {
    "duration": 1118,
    "start_time": "2024-06-04T20:47:13.683Z"
   },
   {
    "duration": 59,
    "start_time": "2024-06-04T20:48:03.181Z"
   },
   {
    "duration": 52,
    "start_time": "2024-06-04T20:48:12.901Z"
   },
   {
    "duration": 340,
    "start_time": "2024-06-04T20:49:43.161Z"
   },
   {
    "duration": 47,
    "start_time": "2024-06-04T20:50:14.316Z"
   },
   {
    "duration": 2349,
    "start_time": "2024-06-04T20:50:32.548Z"
   },
   {
    "duration": 1223,
    "start_time": "2024-06-04T20:53:17.167Z"
   },
   {
    "duration": 1388,
    "start_time": "2024-06-04T20:53:23.539Z"
   },
   {
    "duration": 1353,
    "start_time": "2024-06-04T20:56:45.877Z"
   },
   {
    "duration": 1271,
    "start_time": "2024-06-04T20:56:53.835Z"
   },
   {
    "duration": 18,
    "start_time": "2024-06-04T20:58:46.614Z"
   },
   {
    "duration": 6,
    "start_time": "2024-06-04T22:16:51.360Z"
   },
   {
    "duration": 12,
    "start_time": "2024-06-04T22:16:57.388Z"
   },
   {
    "duration": 26,
    "start_time": "2024-06-04T22:17:09.712Z"
   },
   {
    "duration": 15,
    "start_time": "2024-06-04T22:19:59.927Z"
   },
   {
    "duration": 6,
    "start_time": "2024-06-04T22:20:17.639Z"
   },
   {
    "duration": 1125,
    "start_time": "2024-06-04T22:20:28.578Z"
   },
   {
    "duration": 3,
    "start_time": "2024-06-04T22:22:33.251Z"
   },
   {
    "duration": 12,
    "start_time": "2024-06-04T22:24:32.464Z"
   },
   {
    "duration": 25,
    "start_time": "2024-06-04T22:25:06.530Z"
   },
   {
    "duration": 17,
    "start_time": "2024-06-04T22:25:09.410Z"
   },
   {
    "duration": 17,
    "start_time": "2024-06-04T22:25:17.864Z"
   },
   {
    "duration": 5,
    "start_time": "2024-06-04T22:27:52.598Z"
   },
   {
    "duration": 7,
    "start_time": "2024-06-04T22:27:56.113Z"
   },
   {
    "duration": 6,
    "start_time": "2024-06-04T22:29:08.340Z"
   },
   {
    "duration": 10,
    "start_time": "2024-06-04T22:29:11.546Z"
   },
   {
    "duration": 10,
    "start_time": "2024-06-04T22:29:52.491Z"
   },
   {
    "duration": 18,
    "start_time": "2024-06-04T22:30:22.789Z"
   },
   {
    "duration": 12,
    "start_time": "2024-06-04T22:30:33.256Z"
   },
   {
    "duration": 9,
    "start_time": "2024-06-04T22:30:37.787Z"
   },
   {
    "duration": 9,
    "start_time": "2024-06-04T22:30:42.120Z"
   },
   {
    "duration": 8,
    "start_time": "2024-06-04T22:30:46.041Z"
   },
   {
    "duration": 7,
    "start_time": "2024-06-04T22:31:28.610Z"
   },
   {
    "duration": 6,
    "start_time": "2024-06-04T22:31:40.265Z"
   },
   {
    "duration": 6,
    "start_time": "2024-06-04T22:31:46.066Z"
   },
   {
    "duration": 30,
    "start_time": "2024-06-04T22:34:12.425Z"
   },
   {
    "duration": 4,
    "start_time": "2024-06-04T22:34:17.572Z"
   },
   {
    "duration": 791,
    "start_time": "2024-06-04T22:34:18.383Z"
   },
   {
    "duration": 71,
    "start_time": "2024-06-04T22:34:19.178Z"
   },
   {
    "duration": 10,
    "start_time": "2024-06-04T22:34:19.252Z"
   },
   {
    "duration": 24,
    "start_time": "2024-06-04T22:34:20.904Z"
   },
   {
    "duration": 129,
    "start_time": "2024-06-04T22:34:23.095Z"
   },
   {
    "duration": 11,
    "start_time": "2024-06-04T22:34:23.752Z"
   },
   {
    "duration": 21,
    "start_time": "2024-06-04T22:34:41.793Z"
   },
   {
    "duration": 19,
    "start_time": "2024-06-04T22:34:50.572Z"
   },
   {
    "duration": 20,
    "start_time": "2024-06-04T22:34:51.839Z"
   },
   {
    "duration": 13,
    "start_time": "2024-06-04T22:34:52.865Z"
   },
   {
    "duration": 18,
    "start_time": "2024-06-04T22:35:02.461Z"
   },
   {
    "duration": 10,
    "start_time": "2024-06-04T22:35:04.666Z"
   },
   {
    "duration": 9,
    "start_time": "2024-06-04T22:35:05.583Z"
   },
   {
    "duration": 8,
    "start_time": "2024-06-04T22:35:25.241Z"
   },
   {
    "duration": 10,
    "start_time": "2024-06-04T22:35:36.927Z"
   },
   {
    "duration": 9,
    "start_time": "2024-06-04T22:35:42.705Z"
   },
   {
    "duration": 12,
    "start_time": "2024-06-04T22:35:51.425Z"
   },
   {
    "duration": 7,
    "start_time": "2024-06-04T22:36:34.657Z"
   },
   {
    "duration": 17,
    "start_time": "2024-06-04T22:36:47.696Z"
   },
   {
    "duration": 19,
    "start_time": "2024-06-04T22:37:06.022Z"
   },
   {
    "duration": 12,
    "start_time": "2024-06-04T22:37:11.913Z"
   },
   {
    "duration": 17,
    "start_time": "2024-06-04T22:37:29.019Z"
   },
   {
    "duration": 7,
    "start_time": "2024-06-04T22:37:31.451Z"
   },
   {
    "duration": 17,
    "start_time": "2024-06-04T22:37:46.931Z"
   },
   {
    "duration": 18,
    "start_time": "2024-06-04T22:38:02.799Z"
   },
   {
    "duration": 17,
    "start_time": "2024-06-04T22:38:11.399Z"
   },
   {
    "duration": 233,
    "start_time": "2024-06-04T22:38:58.402Z"
   },
   {
    "duration": 215,
    "start_time": "2024-06-04T22:40:09.971Z"
   },
   {
    "duration": 207,
    "start_time": "2024-06-04T22:45:20.055Z"
   },
   {
    "duration": 202,
    "start_time": "2024-06-04T22:45:30.046Z"
   },
   {
    "duration": 12,
    "start_time": "2024-06-04T22:45:35.719Z"
   },
   {
    "duration": 264,
    "start_time": "2024-06-04T22:45:56.683Z"
   },
   {
    "duration": 12,
    "start_time": "2024-06-04T22:46:04.124Z"
   },
   {
    "duration": 13,
    "start_time": "2024-06-04T22:46:45.776Z"
   },
   {
    "duration": 12,
    "start_time": "2024-06-04T22:46:51.096Z"
   },
   {
    "duration": 411,
    "start_time": "2024-06-04T22:46:52.314Z"
   },
   {
    "duration": 11,
    "start_time": "2024-06-04T22:48:27.008Z"
   },
   {
    "duration": 9,
    "start_time": "2024-06-04T22:48:34.548Z"
   },
   {
    "duration": 397,
    "start_time": "2024-06-04T22:48:54.767Z"
   },
   {
    "duration": 47,
    "start_time": "2024-06-04T22:50:46.179Z"
   },
   {
    "duration": 10,
    "start_time": "2024-06-04T23:05:01.242Z"
   },
   {
    "duration": 88,
    "start_time": "2024-06-04T23:05:32.077Z"
   },
   {
    "duration": 1363,
    "start_time": "2024-06-04T23:05:41.916Z"
   },
   {
    "duration": 1458,
    "start_time": "2024-06-04T23:05:44.437Z"
   },
   {
    "duration": 1207,
    "start_time": "2024-06-04T23:06:08.565Z"
   },
   {
    "duration": 1130,
    "start_time": "2024-06-04T23:06:50.051Z"
   },
   {
    "duration": 608,
    "start_time": "2024-06-04T23:10:12.616Z"
   },
   {
    "duration": 26,
    "start_time": "2024-06-04T23:10:29.313Z"
   },
   {
    "duration": 44,
    "start_time": "2024-06-04T23:10:34.875Z"
   },
   {
    "duration": 25,
    "start_time": "2024-06-04T23:10:43.681Z"
   },
   {
    "duration": 11,
    "start_time": "2024-06-04T23:25:49.582Z"
   },
   {
    "duration": 8,
    "start_time": "2024-06-04T23:28:06.374Z"
   },
   {
    "duration": 11,
    "start_time": "2024-06-04T23:28:22.615Z"
   },
   {
    "duration": 29,
    "start_time": "2024-06-04T23:28:35.880Z"
   },
   {
    "duration": 28,
    "start_time": "2024-06-04T23:29:56.445Z"
   },
   {
    "duration": 9,
    "start_time": "2024-06-04T23:30:09.418Z"
   },
   {
    "duration": 13,
    "start_time": "2024-06-04T23:30:19.268Z"
   },
   {
    "duration": 11,
    "start_time": "2024-06-04T23:32:25.576Z"
   },
   {
    "duration": 7,
    "start_time": "2024-06-04T23:32:25.874Z"
   },
   {
    "duration": 7,
    "start_time": "2024-06-04T23:32:26.310Z"
   },
   {
    "duration": 8,
    "start_time": "2024-06-04T23:32:26.937Z"
   },
   {
    "duration": 12,
    "start_time": "2024-06-04T23:32:29.310Z"
   },
   {
    "duration": 6,
    "start_time": "2024-06-04T23:34:07.928Z"
   },
   {
    "duration": 4,
    "start_time": "2024-06-04T23:34:20.564Z"
   },
   {
    "duration": 7,
    "start_time": "2024-06-04T23:34:23.913Z"
   },
   {
    "duration": 26,
    "start_time": "2024-06-04T23:34:36.654Z"
   },
   {
    "duration": 4,
    "start_time": "2024-06-04T23:35:00.239Z"
   },
   {
    "duration": 7,
    "start_time": "2024-06-04T23:35:04.731Z"
   },
   {
    "duration": 7,
    "start_time": "2024-06-04T23:36:00.514Z"
   },
   {
    "duration": 7,
    "start_time": "2024-06-04T23:36:01.608Z"
   },
   {
    "duration": 5181,
    "start_time": "2024-06-05T04:01:48.906Z"
   },
   {
    "duration": 901,
    "start_time": "2024-06-05T04:01:54.090Z"
   },
   {
    "duration": 93,
    "start_time": "2024-06-05T04:01:54.995Z"
   },
   {
    "duration": 12,
    "start_time": "2024-06-05T04:01:55.094Z"
   },
   {
    "duration": 29,
    "start_time": "2024-06-05T04:01:55.109Z"
   },
   {
    "duration": 147,
    "start_time": "2024-06-05T04:01:55.141Z"
   },
   {
    "duration": 12,
    "start_time": "2024-06-05T04:01:55.291Z"
   },
   {
    "duration": 18,
    "start_time": "2024-06-05T04:01:55.322Z"
   },
   {
    "duration": 15,
    "start_time": "2024-06-05T04:01:55.343Z"
   },
   {
    "duration": 9,
    "start_time": "2024-06-05T04:01:55.363Z"
   },
   {
    "duration": 62,
    "start_time": "2024-06-05T04:01:55.375Z"
   },
   {
    "duration": 10,
    "start_time": "2024-06-05T04:01:55.440Z"
   },
   {
    "duration": 10,
    "start_time": "2024-06-05T04:01:55.452Z"
   },
   {
    "duration": 6,
    "start_time": "2024-06-05T04:01:55.465Z"
   },
   {
    "duration": 64,
    "start_time": "2024-06-05T04:01:55.475Z"
   },
   {
    "duration": 16,
    "start_time": "2024-06-05T04:01:55.542Z"
   },
   {
    "duration": 19,
    "start_time": "2024-06-05T04:01:55.562Z"
   },
   {
    "duration": 12,
    "start_time": "2024-06-05T04:01:55.622Z"
   },
   {
    "duration": 16,
    "start_time": "2024-06-05T04:01:55.638Z"
   },
   {
    "duration": 12,
    "start_time": "2024-06-05T04:01:55.658Z"
   },
   {
    "duration": 289,
    "start_time": "2024-06-05T04:01:55.673Z"
   },
   {
    "duration": 231,
    "start_time": "2024-06-05T04:01:55.965Z"
   },
   {
    "duration": 46,
    "start_time": "2024-06-05T04:01:56.199Z"
   },
   {
    "duration": 301,
    "start_time": "2024-06-05T04:01:56.249Z"
   },
   {
    "duration": 411,
    "start_time": "2024-06-05T04:01:56.553Z"
   },
   {
    "duration": 213,
    "start_time": "2024-06-05T04:01:56.968Z"
   },
   {
    "duration": 14,
    "start_time": "2024-06-05T04:01:57.185Z"
   },
   {
    "duration": 11,
    "start_time": "2024-06-05T04:01:57.222Z"
   },
   {
    "duration": 447,
    "start_time": "2024-06-05T04:01:57.235Z"
   },
   {
    "duration": 113,
    "start_time": "2024-06-05T04:01:57.686Z"
   },
   {
    "duration": 1125,
    "start_time": "2024-06-05T04:01:57.803Z"
   },
   {
    "duration": 1263,
    "start_time": "2024-06-05T04:01:58.931Z"
   },
   {
    "duration": 1290,
    "start_time": "2024-06-05T04:02:00.197Z"
   },
   {
    "duration": 12,
    "start_time": "2024-06-05T04:02:01.490Z"
   },
   {
    "duration": 23,
    "start_time": "2024-06-05T04:02:01.504Z"
   },
   {
    "duration": 9,
    "start_time": "2024-06-05T04:02:01.532Z"
   },
   {
    "duration": 9,
    "start_time": "2024-06-05T04:02:01.545Z"
   },
   {
    "duration": 15,
    "start_time": "2024-06-05T04:02:01.558Z"
   },
   {
    "duration": 55,
    "start_time": "2024-06-05T04:02:01.576Z"
   },
   {
    "duration": 8,
    "start_time": "2024-06-05T04:02:01.636Z"
   },
   {
    "duration": 10,
    "start_time": "2024-06-05T04:02:01.648Z"
   },
   {
    "duration": 11,
    "start_time": "2024-06-05T04:02:01.662Z"
   },
   {
    "duration": 4,
    "start_time": "2024-06-05T04:26:54.609Z"
   },
   {
    "duration": 3,
    "start_time": "2024-06-05T04:27:13.976Z"
   },
   {
    "duration": 4,
    "start_time": "2024-06-05T04:27:23.079Z"
   },
   {
    "duration": 4,
    "start_time": "2024-06-05T04:27:28.596Z"
   },
   {
    "duration": 1162,
    "start_time": "2024-06-05T04:30:14.333Z"
   },
   {
    "duration": 4,
    "start_time": "2024-06-05T04:41:58.942Z"
   },
   {
    "duration": 4,
    "start_time": "2024-06-05T04:43:05.010Z"
   },
   {
    "duration": 5079,
    "start_time": "2024-06-19T01:59:44.437Z"
   },
   {
    "duration": 861,
    "start_time": "2024-06-19T01:59:49.520Z"
   },
   {
    "duration": 98,
    "start_time": "2024-06-19T01:59:50.383Z"
   },
   {
    "duration": 11,
    "start_time": "2024-06-19T01:59:50.486Z"
   },
   {
    "duration": 37,
    "start_time": "2024-06-19T01:59:50.500Z"
   },
   {
    "duration": 133,
    "start_time": "2024-06-19T01:59:50.540Z"
   },
   {
    "duration": 13,
    "start_time": "2024-06-19T01:59:50.679Z"
   },
   {
    "duration": 26,
    "start_time": "2024-06-19T01:59:50.709Z"
   },
   {
    "duration": 15,
    "start_time": "2024-06-19T01:59:50.738Z"
   },
   {
    "duration": 11,
    "start_time": "2024-06-19T01:59:50.759Z"
   },
   {
    "duration": 18,
    "start_time": "2024-06-19T01:59:50.773Z"
   },
   {
    "duration": 9,
    "start_time": "2024-06-19T01:59:50.831Z"
   },
   {
    "duration": 9,
    "start_time": "2024-06-19T01:59:50.843Z"
   },
   {
    "duration": 6,
    "start_time": "2024-06-19T01:59:50.858Z"
   },
   {
    "duration": 19,
    "start_time": "2024-06-19T01:59:50.867Z"
   },
   {
    "duration": 13,
    "start_time": "2024-06-19T01:59:50.932Z"
   },
   {
    "duration": 13,
    "start_time": "2024-06-19T01:59:50.951Z"
   },
   {
    "duration": 10,
    "start_time": "2024-06-19T01:59:50.967Z"
   },
   {
    "duration": 50,
    "start_time": "2024-06-19T01:59:50.981Z"
   },
   {
    "duration": 14,
    "start_time": "2024-06-19T01:59:51.034Z"
   },
   {
    "duration": 294,
    "start_time": "2024-06-19T01:59:51.052Z"
   },
   {
    "duration": 215,
    "start_time": "2024-06-19T01:59:51.352Z"
   },
   {
    "duration": 25,
    "start_time": "2024-06-19T01:59:51.570Z"
   },
   {
    "duration": 358,
    "start_time": "2024-06-19T01:59:51.599Z"
   },
   {
    "duration": 404,
    "start_time": "2024-06-19T01:59:51.962Z"
   },
   {
    "duration": 220,
    "start_time": "2024-06-19T01:59:52.371Z"
   },
   {
    "duration": 14,
    "start_time": "2024-06-19T01:59:52.595Z"
   },
   {
    "duration": 11,
    "start_time": "2024-06-19T01:59:52.637Z"
   },
   {
    "duration": 423,
    "start_time": "2024-06-19T01:59:52.651Z"
   },
   {
    "duration": 169,
    "start_time": "2024-06-19T01:59:53.077Z"
   },
   {
    "duration": 1133,
    "start_time": "2024-06-19T01:59:53.249Z"
   },
   {
    "duration": 1101,
    "start_time": "2024-06-19T01:59:54.388Z"
   },
   {
    "duration": 1106,
    "start_time": "2024-06-19T01:59:55.492Z"
   },
   {
    "duration": 9,
    "start_time": "2024-06-19T01:59:56.601Z"
   },
   {
    "duration": 22,
    "start_time": "2024-06-19T01:59:56.613Z"
   },
   {
    "duration": 7,
    "start_time": "2024-06-19T01:59:56.638Z"
   },
   {
    "duration": 11,
    "start_time": "2024-06-19T01:59:56.649Z"
   },
   {
    "duration": 14,
    "start_time": "2024-06-19T01:59:56.663Z"
   },
   {
    "duration": 52,
    "start_time": "2024-06-19T01:59:56.680Z"
   },
   {
    "duration": 8,
    "start_time": "2024-06-19T01:59:56.735Z"
   },
   {
    "duration": 4,
    "start_time": "2024-06-19T01:59:56.746Z"
   },
   {
    "duration": 11,
    "start_time": "2024-06-19T01:59:56.753Z"
   },
   {
    "duration": 10,
    "start_time": "2024-06-19T01:59:56.767Z"
   },
   {
    "duration": 3,
    "start_time": "2024-06-19T01:59:56.780Z"
   },
   {
    "duration": 4,
    "start_time": "2024-06-19T01:59:56.831Z"
   },
   {
    "duration": 4,
    "start_time": "2024-06-19T01:59:56.839Z"
   },
   {
    "duration": 4,
    "start_time": "2024-06-19T22:52:27.567Z"
   },
   {
    "duration": 5015,
    "start_time": "2024-07-04T18:56:31.459Z"
   },
   {
    "duration": 831,
    "start_time": "2024-07-04T18:56:36.477Z"
   },
   {
    "duration": 89,
    "start_time": "2024-07-04T18:56:37.311Z"
   },
   {
    "duration": 10,
    "start_time": "2024-07-04T18:56:37.405Z"
   },
   {
    "duration": 25,
    "start_time": "2024-07-04T18:56:37.418Z"
   },
   {
    "duration": 156,
    "start_time": "2024-07-04T18:56:37.447Z"
   },
   {
    "duration": 11,
    "start_time": "2024-07-04T18:56:37.608Z"
   },
   {
    "duration": 17,
    "start_time": "2024-07-04T18:56:37.622Z"
   },
   {
    "duration": 15,
    "start_time": "2024-07-04T18:56:37.642Z"
   },
   {
    "duration": 9,
    "start_time": "2024-07-04T18:56:37.704Z"
   },
   {
    "duration": 16,
    "start_time": "2024-07-04T18:56:37.717Z"
   },
   {
    "duration": 9,
    "start_time": "2024-07-04T18:56:37.736Z"
   },
   {
    "duration": 53,
    "start_time": "2024-07-04T18:56:37.748Z"
   },
   {
    "duration": 3,
    "start_time": "2024-07-04T18:56:37.804Z"
   },
   {
    "duration": 7,
    "start_time": "2024-07-04T18:56:37.811Z"
   },
   {
    "duration": 18,
    "start_time": "2024-07-04T18:56:37.821Z"
   },
   {
    "duration": 13,
    "start_time": "2024-07-04T18:56:37.842Z"
   },
   {
    "duration": 55,
    "start_time": "2024-07-04T18:56:37.858Z"
   },
   {
    "duration": 11,
    "start_time": "2024-07-04T18:56:37.916Z"
   },
   {
    "duration": 14,
    "start_time": "2024-07-04T18:56:37.931Z"
   },
   {
    "duration": 52,
    "start_time": "2024-07-04T18:56:37.949Z"
   },
   {
    "duration": 263,
    "start_time": "2024-07-04T18:56:38.004Z"
   },
   {
    "duration": 200,
    "start_time": "2024-07-04T18:56:38.272Z"
   },
   {
    "duration": 38,
    "start_time": "2024-07-04T18:56:38.475Z"
   },
   {
    "duration": 305,
    "start_time": "2024-07-04T18:56:38.516Z"
   },
   {
    "duration": 361,
    "start_time": "2024-07-04T18:56:38.824Z"
   },
   {
    "duration": 190,
    "start_time": "2024-07-04T18:56:39.189Z"
   },
   {
    "duration": 20,
    "start_time": "2024-07-04T18:56:39.390Z"
   },
   {
    "duration": 13,
    "start_time": "2024-07-04T18:56:39.413Z"
   },
   {
    "duration": 447,
    "start_time": "2024-07-04T18:56:39.428Z"
   },
   {
    "duration": 98,
    "start_time": "2024-07-04T18:56:39.878Z"
   },
   {
    "duration": 1268,
    "start_time": "2024-07-04T18:56:39.980Z"
   },
   {
    "duration": 1356,
    "start_time": "2024-07-04T18:56:41.251Z"
   },
   {
    "duration": 1168,
    "start_time": "2024-07-04T18:56:42.611Z"
   },
   {
    "duration": 10,
    "start_time": "2024-07-04T18:56:43.783Z"
   },
   {
    "duration": 13,
    "start_time": "2024-07-04T18:56:43.795Z"
   },
   {
    "duration": 9,
    "start_time": "2024-07-04T18:56:43.811Z"
   },
   {
    "duration": 8,
    "start_time": "2024-07-04T18:56:43.823Z"
   },
   {
    "duration": 14,
    "start_time": "2024-07-04T18:56:43.834Z"
   },
   {
    "duration": 9,
    "start_time": "2024-07-04T18:56:43.903Z"
   },
   {
    "duration": 7,
    "start_time": "2024-07-04T18:56:43.915Z"
   },
   {
    "duration": 5,
    "start_time": "2024-07-04T18:56:43.925Z"
   },
   {
    "duration": 11,
    "start_time": "2024-07-04T18:56:43.934Z"
   },
   {
    "duration": 55,
    "start_time": "2024-07-04T18:56:43.948Z"
   },
   {
    "duration": 4,
    "start_time": "2024-07-04T18:56:44.007Z"
   },
   {
    "duration": 3,
    "start_time": "2024-07-04T18:56:44.014Z"
   },
   {
    "duration": 5,
    "start_time": "2024-07-04T18:56:44.021Z"
   },
   {
    "duration": 34,
    "start_time": "2024-07-04T18:57:12.287Z"
   },
   {
    "duration": 257,
    "start_time": "2024-07-04T18:59:10.882Z"
   },
   {
    "duration": 246,
    "start_time": "2024-07-04T19:00:14.947Z"
   },
   {
    "duration": 8,
    "start_time": "2024-07-04T19:02:22.132Z"
   },
   {
    "duration": 6,
    "start_time": "2024-07-04T19:02:52.371Z"
   },
   {
    "duration": 7,
    "start_time": "2024-07-04T19:03:06.601Z"
   },
   {
    "duration": 7,
    "start_time": "2024-07-04T19:04:08.780Z"
   },
   {
    "duration": 6,
    "start_time": "2024-07-04T19:04:39.509Z"
   },
   {
    "duration": 5,
    "start_time": "2024-07-04T19:05:51.968Z"
   },
   {
    "duration": 6,
    "start_time": "2024-07-04T19:06:09.086Z"
   },
   {
    "duration": 5,
    "start_time": "2024-07-04T19:06:50.519Z"
   }
  ],
  "kernelspec": {
   "display_name": "base",
   "language": "python",
   "name": "python3"
  },
  "language_info": {
   "codemirror_mode": {
    "name": "ipython",
    "version": 3
   },
   "file_extension": ".py",
   "mimetype": "text/x-python",
   "name": "python",
   "nbconvert_exporter": "python",
   "pygments_lexer": "ipython3",
   "version": "3.11.7"
  },
  "toc": {
   "base_numbering": 1,
   "nav_menu": {},
   "number_sections": true,
   "sideBar": true,
   "skip_h1_title": true,
   "title_cell": "Table of Contents",
   "title_sidebar": "Contents",
   "toc_cell": false,
   "toc_position": {},
   "toc_section_display": true,
   "toc_window_display": false
  }
 },
 "nbformat": 4,
 "nbformat_minor": 2
}
